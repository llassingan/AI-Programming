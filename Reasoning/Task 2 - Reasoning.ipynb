{
  "nbformat": 4,
  "nbformat_minor": 0,
  "metadata": {
    "colab": {
      "name": "IF4210_1301184253.ipynb",
      "provenance": [],
      "collapsed_sections": []
    },
    "kernelspec": {
      "name": "python3",
      "display_name": "Python 3"
    }
  },
  "cells": [
    {
      "cell_type": "markdown",
      "metadata": {
        "id": "Z5ZoPZjynhqD"
      },
      "source": [
        "#TUGAS PEMROGRAMAN 2\n",
        "#PENGANTAR KECERDASAN BUATAN\n",
        "###ALMANIK BALINGGA - 1301184253 - IF4210"
      ]
    },
    {
      "cell_type": "markdown",
      "metadata": {
        "id": "P5aGCYLyMCPF"
      },
      "source": [
        "####Mount File GDrive"
      ]
    },
    {
      "cell_type": "code",
      "metadata": {
        "id": "4zeXCRVYoEP3",
        "outputId": "9070d665-28aa-4471-cfcc-2e0f2f25d842",
        "colab": {
          "base_uri": "https://localhost:8080/"
        }
      },
      "source": [
        "from google.colab import drive\n",
        "drive.mount('/gdrive')\n",
        "%cd \"/gdrive/My Drive/Tugas/AI_TUPRO/\""
      ],
      "execution_count": 1,
      "outputs": [
        {
          "output_type": "stream",
          "text": [
            "Mounted at /gdrive\n",
            "/gdrive/My Drive/Tugas/AI_TUPRO\n"
          ],
          "name": "stdout"
        }
      ]
    },
    {
      "cell_type": "markdown",
      "metadata": {
        "id": "z1JyZys1MG0y"
      },
      "source": [
        "####Import Library"
      ]
    },
    {
      "cell_type": "code",
      "metadata": {
        "id": "KV1LLDbfp0t3"
      },
      "source": [
        "import pandas as pd\n",
        "import numpy as np\n",
        "import matplotlib.pyplot as plt"
      ],
      "execution_count": 2,
      "outputs": []
    },
    {
      "cell_type": "markdown",
      "metadata": {
        "id": "6Q_09TjAMJ-2"
      },
      "source": [
        "####Membaca File "
      ]
    },
    {
      "cell_type": "code",
      "metadata": {
        "id": "hQszJqH6p3S9",
        "outputId": "dea6166b-6fa2-490f-95b5-877ed28c525e",
        "colab": {
          "base_uri": "https://localhost:8080/",
          "height": 419
        }
      },
      "source": [
        "#Kenalan dulu sama datanya\n",
        "df = pd.read_excel('Mahasiswa.xls')\n",
        "df"
      ],
      "execution_count": 3,
      "outputs": [
        {
          "output_type": "execute_result",
          "data": {
            "text/html": [
              "<div>\n",
              "<style scoped>\n",
              "    .dataframe tbody tr th:only-of-type {\n",
              "        vertical-align: middle;\n",
              "    }\n",
              "\n",
              "    .dataframe tbody tr th {\n",
              "        vertical-align: top;\n",
              "    }\n",
              "\n",
              "    .dataframe thead th {\n",
              "        text-align: right;\n",
              "    }\n",
              "</style>\n",
              "<table border=\"1\" class=\"dataframe\">\n",
              "  <thead>\n",
              "    <tr style=\"text-align: right;\">\n",
              "      <th></th>\n",
              "      <th>Id</th>\n",
              "      <th>Penghasilan</th>\n",
              "      <th>Pengeluaran</th>\n",
              "    </tr>\n",
              "  </thead>\n",
              "  <tbody>\n",
              "    <tr>\n",
              "      <th>0</th>\n",
              "      <td>1</td>\n",
              "      <td>18.76</td>\n",
              "      <td>9.68</td>\n",
              "    </tr>\n",
              "    <tr>\n",
              "      <th>1</th>\n",
              "      <td>2</td>\n",
              "      <td>8.35</td>\n",
              "      <td>4.52</td>\n",
              "    </tr>\n",
              "    <tr>\n",
              "      <th>2</th>\n",
              "      <td>3</td>\n",
              "      <td>17.03</td>\n",
              "      <td>10.11</td>\n",
              "    </tr>\n",
              "    <tr>\n",
              "      <th>3</th>\n",
              "      <td>4</td>\n",
              "      <td>8.23</td>\n",
              "      <td>9.25</td>\n",
              "    </tr>\n",
              "    <tr>\n",
              "      <th>4</th>\n",
              "      <td>5</td>\n",
              "      <td>16.89</td>\n",
              "      <td>6.99</td>\n",
              "    </tr>\n",
              "    <tr>\n",
              "      <th>...</th>\n",
              "      <td>...</td>\n",
              "      <td>...</td>\n",
              "      <td>...</td>\n",
              "    </tr>\n",
              "    <tr>\n",
              "      <th>95</th>\n",
              "      <td>96</td>\n",
              "      <td>17.31</td>\n",
              "      <td>10.00</td>\n",
              "    </tr>\n",
              "    <tr>\n",
              "      <th>96</th>\n",
              "      <td>97</td>\n",
              "      <td>18.85</td>\n",
              "      <td>9.78</td>\n",
              "    </tr>\n",
              "    <tr>\n",
              "      <th>97</th>\n",
              "      <td>98</td>\n",
              "      <td>14.52</td>\n",
              "      <td>10.32</td>\n",
              "    </tr>\n",
              "    <tr>\n",
              "      <th>98</th>\n",
              "      <td>99</td>\n",
              "      <td>9.83</td>\n",
              "      <td>10.64</td>\n",
              "    </tr>\n",
              "    <tr>\n",
              "      <th>99</th>\n",
              "      <td>100</td>\n",
              "      <td>7.84</td>\n",
              "      <td>3.44</td>\n",
              "    </tr>\n",
              "  </tbody>\n",
              "</table>\n",
              "<p>100 rows × 3 columns</p>\n",
              "</div>"
            ],
            "text/plain": [
              "     Id  Penghasilan  Pengeluaran\n",
              "0     1        18.76         9.68\n",
              "1     2         8.35         4.52\n",
              "2     3        17.03        10.11\n",
              "3     4         8.23         9.25\n",
              "4     5        16.89         6.99\n",
              "..  ...          ...          ...\n",
              "95   96        17.31        10.00\n",
              "96   97        18.85         9.78\n",
              "97   98        14.52        10.32\n",
              "98   99         9.83        10.64\n",
              "99  100         7.84         3.44\n",
              "\n",
              "[100 rows x 3 columns]"
            ]
          },
          "metadata": {
            "tags": []
          },
          "execution_count": 3
        }
      ]
    },
    {
      "cell_type": "code",
      "metadata": {
        "id": "Mzb9m-Suvcve",
        "outputId": "4ea46e5d-afe9-4dc5-8f43-4fbf244fa0f3",
        "colab": {
          "base_uri": "https://localhost:8080/",
          "height": 297
        }
      },
      "source": [
        "df.describe()"
      ],
      "execution_count": 4,
      "outputs": [
        {
          "output_type": "execute_result",
          "data": {
            "text/html": [
              "<div>\n",
              "<style scoped>\n",
              "    .dataframe tbody tr th:only-of-type {\n",
              "        vertical-align: middle;\n",
              "    }\n",
              "\n",
              "    .dataframe tbody tr th {\n",
              "        vertical-align: top;\n",
              "    }\n",
              "\n",
              "    .dataframe thead th {\n",
              "        text-align: right;\n",
              "    }\n",
              "</style>\n",
              "<table border=\"1\" class=\"dataframe\">\n",
              "  <thead>\n",
              "    <tr style=\"text-align: right;\">\n",
              "      <th></th>\n",
              "      <th>Id</th>\n",
              "      <th>Penghasilan</th>\n",
              "      <th>Pengeluaran</th>\n",
              "    </tr>\n",
              "  </thead>\n",
              "  <tbody>\n",
              "    <tr>\n",
              "      <th>count</th>\n",
              "      <td>100.000000</td>\n",
              "      <td>100.000000</td>\n",
              "      <td>100.00000</td>\n",
              "    </tr>\n",
              "    <tr>\n",
              "      <th>mean</th>\n",
              "      <td>50.500000</td>\n",
              "      <td>13.778900</td>\n",
              "      <td>8.38130</td>\n",
              "    </tr>\n",
              "    <tr>\n",
              "      <th>std</th>\n",
              "      <td>29.011492</td>\n",
              "      <td>4.055465</td>\n",
              "      <td>1.89298</td>\n",
              "    </tr>\n",
              "    <tr>\n",
              "      <th>min</th>\n",
              "      <td>1.000000</td>\n",
              "      <td>4.620000</td>\n",
              "      <td>3.44000</td>\n",
              "    </tr>\n",
              "    <tr>\n",
              "      <th>25%</th>\n",
              "      <td>25.750000</td>\n",
              "      <td>9.617500</td>\n",
              "      <td>7.39250</td>\n",
              "    </tr>\n",
              "    <tr>\n",
              "      <th>50%</th>\n",
              "      <td>50.500000</td>\n",
              "      <td>14.805000</td>\n",
              "      <td>8.60000</td>\n",
              "    </tr>\n",
              "    <tr>\n",
              "      <th>75%</th>\n",
              "      <td>75.250000</td>\n",
              "      <td>17.045000</td>\n",
              "      <td>9.80750</td>\n",
              "    </tr>\n",
              "    <tr>\n",
              "      <th>max</th>\n",
              "      <td>100.000000</td>\n",
              "      <td>19.690000</td>\n",
              "      <td>11.29000</td>\n",
              "    </tr>\n",
              "  </tbody>\n",
              "</table>\n",
              "</div>"
            ],
            "text/plain": [
              "               Id  Penghasilan  Pengeluaran\n",
              "count  100.000000   100.000000    100.00000\n",
              "mean    50.500000    13.778900      8.38130\n",
              "std     29.011492     4.055465      1.89298\n",
              "min      1.000000     4.620000      3.44000\n",
              "25%     25.750000     9.617500      7.39250\n",
              "50%     50.500000    14.805000      8.60000\n",
              "75%     75.250000    17.045000      9.80750\n",
              "max    100.000000    19.690000     11.29000"
            ]
          },
          "metadata": {
            "tags": []
          },
          "execution_count": 4
        }
      ]
    },
    {
      "cell_type": "markdown",
      "metadata": {
        "id": "WUwW3x-TvsEn"
      },
      "source": [
        "\n",
        "1.   Rata Rata Penghasilan : 13.778900\t\n",
        "2.   Penghasilan Terendah : 4.620000\t\n",
        "3.   Penghasilan Tertinggi : 19.690000\t\n",
        "4.   Rata Rata Pengeluaran : 8.38130\t\n",
        "5.   Pengeluaran Terendah : 3.44000\t\n",
        "6.   Pengeluaran Tertinggi : 11.29000\t\n",
        "\n"
      ]
    },
    {
      "cell_type": "markdown",
      "metadata": {
        "id": "NRYIxebnMN-h"
      },
      "source": [
        "####Inisiasi Nama Linguistik "
      ]
    },
    {
      "cell_type": "markdown",
      "metadata": {
        "id": "jN-T_YoPwSd5"
      },
      "source": [
        "Pengeluaran dan Penghasilan keduanya akan dibagi menjadi 5 Nama Linguistik :\n",
        "\n",
        "\n",
        "1.   Sangat Tinggi (ST)\n",
        "2.   Tinggi (T)\n",
        "3.   Sedang (S)\n",
        "4.   Rendah (R)\n",
        "5.   Sangat Rendah (SR)\n",
        "\n",
        "<br/>\n",
        "Mengapa demikian?\n",
        "<br>Karena rentang nilai maksimum penghasilan dan pengeluaran berbeda, tetapi yang dibicarakan masih sama (uang). Sehingga penentuan variable linguistik pada penghasilan akan mempengaruhi variable linguistik pada pengeluaran. Maka, akan lebih logis dan memudahkan jika kategorinya dipecah menjadi agak lebih banyak.\n",
        "\n",
        "\n"
      ]
    },
    {
      "cell_type": "markdown",
      "metadata": {
        "id": "4Wm6Ybs7ezZt"
      },
      "source": [
        "###FUZZYFIKASI"
      ]
    },
    {
      "cell_type": "markdown",
      "metadata": {
        "id": "98xx_I-xKFGP"
      },
      "source": [
        "####Fungsi Keanggotaan Penghasilan"
      ]
    },
    {
      "cell_type": "code",
      "metadata": {
        "id": "4-FH_cfiMvdo"
      },
      "source": [
        "def fkpenghasilan(x):\n",
        "  SR,R,S,T,ST = 0,0,0,0,0\n",
        "  if x>=0 and x <=4:\n",
        "    SR,R,S,T,ST = 1,0,0,0,0\n",
        "    return  SR,R,S,T,ST\n",
        "  if x>4 and x<=5:\n",
        "    SR,R,S,T,ST = (-x+5),(x-4),0,0,0\n",
        "    return  SR,R,S,T,ST\n",
        "  if x>5 and x<=7:\n",
        "    SR,R,S,T,ST = 0,1,0,0,0\n",
        "    return  SR,R,S,T,ST\n",
        "  if x>7 and x<=8:\n",
        "    SR,R,S,T,ST = 0,(-x+8),(x-7),0,0\n",
        "    return  SR,R,S,T,ST\n",
        "  if x>8 and  x<= 9:\n",
        "    SR,R,S,T,ST = 0,0,1,0,0\n",
        "    return  SR,R,S,T,ST\n",
        "  if x>9 and x <= 11:\n",
        "    SR,R,S,T,ST = 0,0,((-x+11)/2),((x-9)/2),0\n",
        "    return  SR,R,S,T,ST\n",
        "  if x>11 and x<=14:\n",
        "    SR,R,S,T,ST = 0,0,0,1,0\n",
        "    return  SR,R,S,T,ST\n",
        "  if x>14 and x<=15:\n",
        "    SR,R,S,T,ST = 0,0,0,(-x+15),(x-14)\n",
        "    return  SR,R,S,T,ST\n",
        "  if x>15:\n",
        "    SR,R,S,T,ST = 0,0,0,0,1\n",
        "    return  SR,R,S,T,ST\n"
      ],
      "execution_count": 5,
      "outputs": []
    },
    {
      "cell_type": "markdown",
      "metadata": {
        "id": "e64T90JghPaB"
      },
      "source": [
        "####Fungsi Keanggotaan Pengeluaran"
      ]
    },
    {
      "cell_type": "code",
      "metadata": {
        "id": "IwrgFlrMFKd3"
      },
      "source": [
        "def fkpengeluaran(x):\n",
        "  SR,R,S,T,ST = 0,0,0,0,0\n",
        "  if x>=0 and x <=3:\n",
        "     SR,R,S,T,ST = 1,0,0,0,0\n",
        "     return  SR,R,S,T,ST\n",
        "  if x>3 and x<=4:\n",
        "     SR,R,S,T,ST = (-x+4),(x-3),0,0,0\n",
        "     return  SR,R,S,T,ST\n",
        "  if x>4 and x<=5:\n",
        "    SR,R,S,T,ST = 0,1,0,0,0\n",
        "    return  SR,R,S,T,ST\n",
        "  if x>5 and x<=6:\n",
        "    SR,R,S,T,ST = 0,(-x+6),(x-5),0,0\n",
        "    return  SR,R,S,T,ST\n",
        "  if x>6 and  x<= 7:\n",
        "    SR,R,S,T,ST = 0,0,1,0,0\n",
        "    return  SR,R,S,T,ST\n",
        "  if x>7 and x <= 8:\n",
        "    SR,R,S,T,ST = 0,0,(-x+8),(x-7),0\n",
        "    return  SR,R,S,T,ST\n",
        "  if x>8 and x<=9:\n",
        "    SR,R,S,T,ST = 0,0,0,1,0\n",
        "    return  SR,R,S,T,ST\n",
        "  if x>9 and x<=10:\n",
        "    SR,R,S,T,ST = 0,0,0,(-x+10),(x-9)\n",
        "    return  SR,R,S,T,ST\n",
        "  if x>10:\n",
        "    SR,R,S,T,ST = 0,0,0,0,1\n",
        "    return  SR,R,S,T,ST"
      ],
      "execution_count": 7,
      "outputs": []
    },
    {
      "cell_type": "markdown",
      "metadata": {
        "id": "BDaksoOwhTB4"
      },
      "source": [
        "####Fuzzy Set"
      ]
    },
    {
      "cell_type": "code",
      "metadata": {
        "id": "u1od-wFBGEXN",
        "outputId": "b3359109-7644-4737-bfae-96c733b5bfe0",
        "colab": {
          "base_uri": "https://localhost:8080/",
          "height": 513
        }
      },
      "source": [
        "aa = []\n",
        "for i in range(int(max(list(df['Penghasilan'])))):\n",
        "  aa.append(fkpenghasilan(i))\n",
        "plt.plot(aa)\n",
        "plt.show()\n",
        "\n",
        "aa = []\n",
        "for i in range(int(max(list(df['Pengeluaran'])))+3):\n",
        "  aa.append(fkpengeluaran(i))\n",
        "\n",
        "plt.plot(aa)\n",
        "plt.show()"
      ],
      "execution_count": 8,
      "outputs": [
        {
          "output_type": "display_data",
          "data": {
            "image/png": "[encoded data removed]",
            "text/plain": [
              "<Figure size 432x288 with 1 Axes>"
            ]
          },
          "metadata": {
            "tags": [],
            "needs_background": "light"
          }
        },
        {
          "output_type": "display_data",
          "data": {
            "image/png": "[encoded data removed]",
            "text/plain": [
              "<Figure size 432x288 with 1 Axes>"
            ]
          },
          "metadata": {
            "tags": [],
            "needs_background": "light"
          }
        }
      ]
    },
    {
      "cell_type": "markdown",
      "metadata": {
        "id": "GTcYXGZCe-yk"
      },
      "source": [
        "###INFERENSI"
      ]
    },
    {
      "cell_type": "markdown",
      "metadata": {
        "id": "w8lhFXFv8jtF"
      },
      "source": [
        "####Aturan Inferensi"
      ]
    },
    {
      "cell_type": "code",
      "metadata": {
        "id": "68qjAw0g8nl4",
        "outputId": "7d45af0f-fad9-4641-ab59-80627146440e",
        "colab": {
          "base_uri": "https://localhost:8080/",
          "height": 204
        }
      },
      "source": [
        "infe = pd.DataFrame([\n",
        "                  ('Sangat', 'Sangat', 'Sangat','Sangat','Sangat'),\n",
        "                  ('Sangat', 'Sangat', 'Sangat','Sangat','Sangat'),\n",
        "                  ('Kurang', 'Kurang', 'Kurang','Sangat','Sangat'),\n",
        "                  ('Kurang', 'Kurang', 'Kurang','Kurang','Kurang'),\n",
        "                  ('Kurang', 'Kurang', 'Kurang','Kurang','Kurang')],\n",
        "                  index=['Penghasilan SR', 'Penghasilan R', 'Penghasilan S', 'Penghasilan T', 'Penghasilan ST'],\n",
        "                  columns=('Pengeluaran SR', 'Pengeluaran R', 'Pengeluaran S','Pengeluaran T','Pengeluaran ST'))\n",
        "infe"
      ],
      "execution_count": 4,
      "outputs": [
        {
          "output_type": "execute_result",
          "data": {
            "text/html": [
              "<div>\n",
              "<style scoped>\n",
              "    .dataframe tbody tr th:only-of-type {\n",
              "        vertical-align: middle;\n",
              "    }\n",
              "\n",
              "    .dataframe tbody tr th {\n",
              "        vertical-align: top;\n",
              "    }\n",
              "\n",
              "    .dataframe thead th {\n",
              "        text-align: right;\n",
              "    }\n",
              "</style>\n",
              "<table border=\"1\" class=\"dataframe\">\n",
              "  <thead>\n",
              "    <tr style=\"text-align: right;\">\n",
              "      <th></th>\n",
              "      <th>Pengeluaran SR</th>\n",
              "      <th>Pengeluaran R</th>\n",
              "      <th>Pengeluaran S</th>\n",
              "      <th>Pengeluaran T</th>\n",
              "      <th>Pengeluaran ST</th>\n",
              "    </tr>\n",
              "  </thead>\n",
              "  <tbody>\n",
              "    <tr>\n",
              "      <th>Penghasilan SR</th>\n",
              "      <td>Sangat</td>\n",
              "      <td>Sangat</td>\n",
              "      <td>Sangat</td>\n",
              "      <td>Sangat</td>\n",
              "      <td>Sangat</td>\n",
              "    </tr>\n",
              "    <tr>\n",
              "      <th>Penghasilan R</th>\n",
              "      <td>Sangat</td>\n",
              "      <td>Sangat</td>\n",
              "      <td>Sangat</td>\n",
              "      <td>Sangat</td>\n",
              "      <td>Sangat</td>\n",
              "    </tr>\n",
              "    <tr>\n",
              "      <th>Penghasilan S</th>\n",
              "      <td>Kurang</td>\n",
              "      <td>Kurang</td>\n",
              "      <td>Kurang</td>\n",
              "      <td>Sangat</td>\n",
              "      <td>Sangat</td>\n",
              "    </tr>\n",
              "    <tr>\n",
              "      <th>Penghasilan T</th>\n",
              "      <td>Kurang</td>\n",
              "      <td>Kurang</td>\n",
              "      <td>Kurang</td>\n",
              "      <td>Kurang</td>\n",
              "      <td>Kurang</td>\n",
              "    </tr>\n",
              "    <tr>\n",
              "      <th>Penghasilan ST</th>\n",
              "      <td>Kurang</td>\n",
              "      <td>Kurang</td>\n",
              "      <td>Kurang</td>\n",
              "      <td>Kurang</td>\n",
              "      <td>Kurang</td>\n",
              "    </tr>\n",
              "  </tbody>\n",
              "</table>\n",
              "</div>"
            ],
            "text/plain": [
              "               Pengeluaran SR Pengeluaran R  ... Pengeluaran T Pengeluaran ST\n",
              "Penghasilan SR         Sangat        Sangat  ...        Sangat         Sangat\n",
              "Penghasilan R          Sangat        Sangat  ...        Sangat         Sangat\n",
              "Penghasilan S          Kurang        Kurang  ...        Sangat         Sangat\n",
              "Penghasilan T          Kurang        Kurang  ...        Kurang         Kurang\n",
              "Penghasilan ST         Kurang        Kurang  ...        Kurang         Kurang\n",
              "\n",
              "[5 rows x 5 columns]"
            ]
          },
          "metadata": {
            "tags": []
          },
          "execution_count": 4
        }
      ]
    },
    {
      "cell_type": "markdown",
      "metadata": {
        "id": "AnacqOOKBVci"
      },
      "source": [
        "####Fungsi Inferensi Kelayakan"
      ]
    },
    {
      "cell_type": "code",
      "metadata": {
        "id": "X6zZvw6uBZEx"
      },
      "source": [
        "def inferensi(x,y):\n",
        "  sangat,kurang = [],[]\n",
        "  sangat.append(min(x[0],y[0]))\n",
        "  sangat.append(min(x[0],y[1]))\n",
        "  sangat.append(min(x[0],y[2]))\n",
        "  sangat.append(min(x[0],y[3]))\n",
        "  sangat.append(min(x[0],y[4]))\n",
        "  sangat.append(min(x[1],y[0]))\n",
        "  sangat.append(min(x[1],y[1]))\n",
        "  sangat.append(min(x[1],y[2]))\n",
        "  sangat.append(min(x[1],y[3]))\n",
        "  sangat.append(min(x[1],y[4]))\n",
        "  sangat.append(min(x[2],y[4]))\n",
        "  kurang.append(min(x[2],y[0]))\n",
        "  kurang.append(min(x[2],y[1]))\n",
        "  kurang.append(min(x[2],y[2]))\n",
        "  sangat.append(min(x[2],y[3]))\n",
        "  kurang.append(min(x[3],y[0]))\n",
        "  kurang.append(min(x[3],y[1]))\n",
        "  kurang.append(min(x[3],y[2]))\n",
        "  kurang.append(min(x[3],y[3]))\n",
        "  kurang.append(min(x[3],y[4]))\n",
        "  kurang.append(min(x[4],y[0]))\n",
        "  kurang.append(min(x[4],y[1]))\n",
        "  kurang.append(min(x[4],y[2]))\n",
        "  kurang.append(min(x[4],y[3]))\n",
        "  kurang.append(min(x[4],y[4]))\n",
        "  sangatTerpilih = max(sangat)\n",
        "  kurangTerpilih = max(kurang)\n",
        "  return sangatTerpilih,kurangTerpilih"
      ],
      "execution_count": 10,
      "outputs": []
    },
    {
      "cell_type": "markdown",
      "metadata": {
        "id": "NhBjOnY0KMsc"
      },
      "source": [
        "####Fungsi Keanggotaan Kelayakan Penerima\n"
      ]
    },
    {
      "cell_type": "code",
      "metadata": {
        "id": "0I4kxgBVKbP6",
        "outputId": "ed1ce6d9-2a94-4829-aaf1-95d6589f3396",
        "colab": {
          "base_uri": "https://localhost:8080/",
          "height": 265
        }
      },
      "source": [
        "def kelayakan(x):\n",
        "  L,T = 0,0\n",
        "  if x<= 45:\n",
        "    L = 0\n",
        "    T = 1\n",
        "    return L,T\n",
        "  if x>45 and x<=80:\n",
        "    L= ((x-45)/35)\n",
        "    T= ((-x+80)/35)\n",
        "    return L,T\n",
        "  if x>80:\n",
        "    L=1\n",
        "    T=0 \n",
        "    return L,T\n",
        "yy=[]\n",
        "for i in range(100):\n",
        "  yy.append(kelayakan(i))\n",
        "plt.plot(yy)\n",
        "plt.show()"
      ],
      "execution_count": 11,
      "outputs": [
        {
          "output_type": "display_data",
          "data": {
            "image/png": "[encoded data removed]",
            "text/plain": [
              "<Figure size 432x288 with 1 Axes>"
            ]
          },
          "metadata": {
            "tags": [],
            "needs_background": "light"
          }
        }
      ]
    },
    {
      "cell_type": "markdown",
      "metadata": {
        "id": "5M-bOPrzfEys"
      },
      "source": [
        "###DEFUZZYFIKASI"
      ]
    },
    {
      "cell_type": "markdown",
      "metadata": {
        "id": "cZdUDW0CHSQk"
      },
      "source": [
        "####Defuzzyfikasi Model Mamdani <br>\n",
        "Kira kira akan seperti ini : <br>\n",
        "![image.png](data:image/png;base64,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)"
      ]
    },
    {
      "cell_type": "code",
      "metadata": {
        "id": "JIdhpfZ8HUyr"
      },
      "source": [
        "def mamdani(x):\n",
        "  #jika KURANG LAYAK only\n",
        "  #kondisi ini akan diambil jika pada Inferensi menghasilkan keluaran Sangat layak = 0, Kurang layak = y\n",
        "  if x[0] == 0:\n",
        "    #membangkitkan angka random untuk dijadikan Weighted Average\n",
        "    m = list(set(list(np.random.randint(0,79,10))))\n",
        "    #print(m)\n",
        "    sum = 0\n",
        "    pembagi = 0\n",
        "    #melakukan penghitungan weighted average\n",
        "    for i in range(len(m)):\n",
        "      #jika di wilayah atap trapesium, maka akan langsung dikalikan dengan nilai atap/atap clipping, kemudian dijumlahkan\n",
        "      if m[i] <=50:\n",
        "        sum = sum+(m[i]*x[1])\n",
        "        pembagi = pembagi+x[1]\n",
        "      #jika di wilayah sisi miring trapesium maka akan dihitung terlebih dahulu nilainya,\n",
        "      # kemudian akan disesuaikan dengan nilai clipping\n",
        "      if m[i]>50 and m[i]<=80:\n",
        "        if (kelayakan(m[i])[1]<=x[1]):\n",
        "          sum = sum + (m[i]*kelayakan(m[i])[1])\n",
        "          pembagi = pembagi+kelayakan(m[i])[1]\n",
        "        else :\n",
        "          sum = sum+(m[i]*x[1])\n",
        "          pembagi = pembagi + x[1]\n",
        "  #jika SANGAT LAYAK only\n",
        "  #kondisi ini akan diambil jika pada Inferensi menghasilkan keluaran Sangat layak = x, Kurang layak = 0\n",
        "  if x[1] == 0:\n",
        "    #membangkitkan angka random untuk dijadikan Weighted Average\n",
        "    m = list(set(list(np.random.randint(50,100,10))))\n",
        "    #print(m)\n",
        "    sum = 0\n",
        "    pembagi = 0\n",
        "    #melakukan penghitungan weighted average\n",
        "    for i in range(len(m)):\n",
        "      #jika di wilayah atap trapesium, maka akan langsung dikalikan dengan nilai atap/atap clipping, kemudian dijumlahkan\n",
        "      if m[i] >80:\n",
        "        sum = sum+(m[i]*x[0])\n",
        "        pembagi = pembagi+x[0]\n",
        "      #jika di wilayah sisi miring trapesium maka akan dihitung terlebih dahulu nilainya,\n",
        "      # kemudian akan disesuaikan dengan nilai clipping\n",
        "      if m[i]>50 and m[i]<=80:\n",
        "        if (kelayakan(m[i])[0]<=x[0]):\n",
        "          sum = sum + (m[i]*kelayakan(m[i])[0])\n",
        "          pembagi = pembagi+kelayakan(m[i])[0]\n",
        "        else :\n",
        "          sum = sum+(m[i]*x[0])\n",
        "          pembagi = pembagi + x[0]\n",
        "  #jika PERPADUAN SANGAT DAN KURANG LAYAK\n",
        "  #kondisi ini akan diambil jika pada Inferensi menghasilkan keluaran Sangat layak = x, Kurang layak = y \n",
        "  if 0 not in x:\n",
        "    #membangkitkan angka random untuk dijadikan Weighted Average\n",
        "    m = list(set(list(np.random.randint(0,50,10)))) + list(set(list(np.random.randint(81,100,5))))\n",
        "    #print(m)\n",
        "    sum = 0\n",
        "    pembagi = 0\n",
        "    #melakukan penghitungan weighted average\n",
        "    for i in range(len(m)):\n",
        "      if m[i] <=50:\n",
        "        sum = sum+(m[i]*x[1])\n",
        "        pembagi = pembagi+x[1]\n",
        "      if m[i] >80:\n",
        "        sum = sum+(m[i]*x[0])\n",
        "        pembagi = pembagi+x[0]\n",
        "\n",
        "  return sum/pembagi\n"
      ],
      "execution_count": 12,
      "outputs": []
    },
    {
      "cell_type": "markdown",
      "metadata": {
        "id": "Q2Wjy9ArRVVv"
      },
      "source": [
        "###PROGRAM UTAMA"
      ]
    },
    {
      "cell_type": "code",
      "metadata": {
        "id": "9JFH4G6gRX6H",
        "outputId": "e312460b-2de4-4644-eebf-f33530e75d99",
        "colab": {
          "base_uri": "https://localhost:8080/"
        }
      },
      "source": [
        "#Model Mamdani\n",
        "fuz =[]\n",
        "a = list(df['Penghasilan'])\n",
        "b = list(df['Pengeluaran'])\n",
        "c = list(df['Id'])\n",
        "for i in range(len(list(df['Penghasilan']))):\n",
        "  #Fuzzyfikasi lalu Inferensi\n",
        "  d = inferensi(fkpenghasilan(a[i]),fkpengeluaran(b[i]))\n",
        "  #Defuzzyfikasi\n",
        "  fuz.append([mamdani(d),c[i]])\n",
        "\n",
        "print('mamdani : ',fuz)\n",
        "congrats = sorted(fuz,key=lambda x: x[0],reverse=True)\n",
        "print('sorted mamdani : ', congrats)\n",
        "for i in range(20):\n",
        "  print(congrats[i])"
      ],
      "execution_count": 27,
      "outputs": [
        {
          "output_type": "stream",
          "text": [
            "mamdani :  [[35.73695420660277, 1], [40.68771929824562, 2], [30.35984848484848, 3], [78.74201474201475, 4], [25.918287937743187, 5], [37.96124031007753, 6], [85.41211225997053, 7], [27.22222222222222, 8], [38.33576642335766, 9], [17.444444444444446, 10], [79.34016393442622, 11], [29.142517186673707, 12], [78.21632653061225, 13], [33.40316205533597, 14], [32.93529411764707, 15], [35.00904977375566, 16], [28.440871369294605, 17], [26.852492370295014, 18], [33.26984126984128, 19], [30.539033457249072, 20], [26.494761350407444, 21], [24.944899478778854, 22], [37.26905574516496, 23], [32.743362831858406, 24], [76.2952029520295, 25], [31.2, 26], [32.2814474439977, 27], [41.599999999999994, 28], [31.759124087591243, 29], [23.048245614035086, 30], [23.452171272395987, 31], [40.58088235294118, 32], [78.71808510638299, 33], [36.71031746031746, 34], [44.89685688129386, 35], [34.3360655737705, 36], [38.245040840140035, 37], [55.867003367003385, 38], [30.57971014492754, 39], [29.001352569882787, 40], [81.85476062399138, 41], [36.69104761904762, 42], [25.580284944166337, 43], [31.010805500982322, 44], [29.857142857142858, 45], [54.98083623693379, 46], [58.297962648556855, 47], [31.608000000000004, 48], [59.23773584905662, 49], [66.40365111561863, 50], [42.580010632642214, 51], [84.23750000000003, 52], [36.1, 53], [27.469483568075116, 54], [32.02976420564361, 55], [27.541401273885356, 56], [27.71212121212121, 57], [26.788381742738586, 58], [31.88349514563107, 59], [31.351164797238997, 60], [43.239978183801476, 61], [26.62866449511401, 62], [75.27902240325868, 63], [33.983805668016196, 64], [36.63179916317991, 65], [57.926517571884965, 66], [32.311284046692606, 67], [26.323083983478664, 68], [49.3268292682927, 69], [45.743219849971155, 70], [39.29939819458375, 71], [35.970970307529164, 72], [30.142322097378276, 73], [31.491422444603295, 74], [75.63681214421253, 75], [38.028571428571425, 76], [27.323529411764703, 77], [43.51499118165785, 78], [77.876, 79], [35.31930758988015, 80], [72.35, 81], [28.167857142857144, 82], [44.49999999999999, 83], [37.513384671800516, 84], [27.521835826930854, 85], [39.96035242290749, 86], [22.308697972251863, 87], [27.80338983050848, 88], [42.45410628019324, 89], [40.4206008583691, 90], [20.849190570860554, 91], [42.18045112781955, 92], [38.775539728466505, 93], [87.01653696498055, 94], [40.590731434952545, 95], [31.770034843205572, 96], [39.21469933184856, 97], [35.609625668449205, 98], [53.54982332155477, 99], [30.205479452054792, 100]]\n",
            "sorted mamdani :  [[87.01653696498055, 94], [85.41211225997053, 7], [84.23750000000003, 52], [81.85476062399138, 41], [79.34016393442622, 11], [78.74201474201475, 4], [78.71808510638299, 33], [78.21632653061225, 13], [77.876, 79], [76.2952029520295, 25], [75.63681214421253, 75], [75.27902240325868, 63], [72.35, 81], [66.40365111561863, 50], [59.23773584905662, 49], [58.297962648556855, 47], [57.926517571884965, 66], [55.867003367003385, 38], [54.98083623693379, 46], [53.54982332155477, 99], [49.3268292682927, 69], [45.743219849971155, 70], [44.89685688129386, 35], [44.49999999999999, 83], [43.51499118165785, 78], [43.239978183801476, 61], [42.580010632642214, 51], [42.45410628019324, 89], [42.18045112781955, 92], [41.599999999999994, 28], [40.68771929824562, 2], [40.590731434952545, 95], [40.58088235294118, 32], [40.4206008583691, 90], [39.96035242290749, 86], [39.29939819458375, 71], [39.21469933184856, 97], [38.775539728466505, 93], [38.33576642335766, 9], [38.245040840140035, 37], [38.028571428571425, 76], [37.96124031007753, 6], [37.513384671800516, 84], [37.26905574516496, 23], [36.71031746031746, 34], [36.69104761904762, 42], [36.63179916317991, 65], [36.1, 53], [35.970970307529164, 72], [35.73695420660277, 1], [35.609625668449205, 98], [35.31930758988015, 80], [35.00904977375566, 16], [34.3360655737705, 36], [33.983805668016196, 64], [33.40316205533597, 14], [33.26984126984128, 19], [32.93529411764707, 15], [32.743362831858406, 24], [32.311284046692606, 67], [32.2814474439977, 27], [32.02976420564361, 55], [31.88349514563107, 59], [31.770034843205572, 96], [31.759124087591243, 29], [31.608000000000004, 48], [31.491422444603295, 74], [31.351164797238997, 60], [31.2, 26], [31.010805500982322, 44], [30.57971014492754, 39], [30.539033457249072, 20], [30.35984848484848, 3], [30.205479452054792, 100], [30.142322097378276, 73], [29.857142857142858, 45], [29.142517186673707, 12], [29.001352569882787, 40], [28.440871369294605, 17], [28.167857142857144, 82], [27.80338983050848, 88], [27.71212121212121, 57], [27.541401273885356, 56], [27.521835826930854, 85], [27.469483568075116, 54], [27.323529411764703, 77], [27.22222222222222, 8], [26.852492370295014, 18], [26.788381742738586, 58], [26.62866449511401, 62], [26.494761350407444, 21], [26.323083983478664, 68], [25.918287937743187, 5], [25.580284944166337, 43], [24.944899478778854, 22], [23.452171272395987, 31], [23.048245614035086, 30], [22.308697972251863, 87], [20.849190570860554, 91], [17.444444444444446, 10]]\n",
            "[87.01653696498055, 94]\n",
            "[85.41211225997053, 7]\n",
            "[84.23750000000003, 52]\n",
            "[81.85476062399138, 41]\n",
            "[79.34016393442622, 11]\n",
            "[78.74201474201475, 4]\n",
            "[78.71808510638299, 33]\n",
            "[78.21632653061225, 13]\n",
            "[77.876, 79]\n",
            "[76.2952029520295, 25]\n",
            "[75.63681214421253, 75]\n",
            "[75.27902240325868, 63]\n",
            "[72.35, 81]\n",
            "[66.40365111561863, 50]\n",
            "[59.23773584905662, 49]\n",
            "[58.297962648556855, 47]\n",
            "[57.926517571884965, 66]\n",
            "[55.867003367003385, 38]\n",
            "[54.98083623693379, 46]\n",
            "[53.54982332155477, 99]\n"
          ],
          "name": "stdout"
        }
      ]
    },
    {
      "cell_type": "markdown",
      "metadata": {
        "id": "WXxAUwxSkQD7"
      },
      "source": [
        "###OUTPUT FILE\n"
      ]
    },
    {
      "cell_type": "code",
      "metadata": {
        "id": "Yy1C4hPVkSOj"
      },
      "source": [
        "dataOut = []\n",
        "for i in range(20):\n",
        "  dataOut.append(congrats[i][1])\n",
        "dataOut.sort()\n",
        "datadict = {\n",
        "    'Id' : dataOut\n",
        "}\n",
        "dataexcel = pd.DataFrame(datadict)\n",
        "dataexcel.to_excel(\"Bantuan.xls\", index=None)"
      ],
      "execution_count": 30,
      "outputs": []
    },
    {
      "cell_type": "code",
      "metadata": {
        "id": "VqlRgpHEgIpW",
        "outputId": "ce869996-e548-4ee8-e8b4-3083b3126ceb",
        "colab": {
          "base_uri": "https://localhost:8080/",
          "height": 669
        }
      },
      "source": [
        "out = pd.read_excel(\"Bantuan.xls\")\n",
        "out"
      ],
      "execution_count": 31,
      "outputs": [
        {
          "output_type": "execute_result",
          "data": {
            "text/html": [
              "<div>\n",
              "<style scoped>\n",
              "    .dataframe tbody tr th:only-of-type {\n",
              "        vertical-align: middle;\n",
              "    }\n",
              "\n",
              "    .dataframe tbody tr th {\n",
              "        vertical-align: top;\n",
              "    }\n",
              "\n",
              "    .dataframe thead th {\n",
              "        text-align: right;\n",
              "    }\n",
              "</style>\n",
              "<table border=\"1\" class=\"dataframe\">\n",
              "  <thead>\n",
              "    <tr style=\"text-align: right;\">\n",
              "      <th></th>\n",
              "      <th>Id</th>\n",
              "    </tr>\n",
              "  </thead>\n",
              "  <tbody>\n",
              "    <tr>\n",
              "      <th>0</th>\n",
              "      <td>4</td>\n",
              "    </tr>\n",
              "    <tr>\n",
              "      <th>1</th>\n",
              "      <td>7</td>\n",
              "    </tr>\n",
              "    <tr>\n",
              "      <th>2</th>\n",
              "      <td>11</td>\n",
              "    </tr>\n",
              "    <tr>\n",
              "      <th>3</th>\n",
              "      <td>13</td>\n",
              "    </tr>\n",
              "    <tr>\n",
              "      <th>4</th>\n",
              "      <td>25</td>\n",
              "    </tr>\n",
              "    <tr>\n",
              "      <th>5</th>\n",
              "      <td>33</td>\n",
              "    </tr>\n",
              "    <tr>\n",
              "      <th>6</th>\n",
              "      <td>38</td>\n",
              "    </tr>\n",
              "    <tr>\n",
              "      <th>7</th>\n",
              "      <td>41</td>\n",
              "    </tr>\n",
              "    <tr>\n",
              "      <th>8</th>\n",
              "      <td>46</td>\n",
              "    </tr>\n",
              "    <tr>\n",
              "      <th>9</th>\n",
              "      <td>47</td>\n",
              "    </tr>\n",
              "    <tr>\n",
              "      <th>10</th>\n",
              "      <td>49</td>\n",
              "    </tr>\n",
              "    <tr>\n",
              "      <th>11</th>\n",
              "      <td>50</td>\n",
              "    </tr>\n",
              "    <tr>\n",
              "      <th>12</th>\n",
              "      <td>52</td>\n",
              "    </tr>\n",
              "    <tr>\n",
              "      <th>13</th>\n",
              "      <td>63</td>\n",
              "    </tr>\n",
              "    <tr>\n",
              "      <th>14</th>\n",
              "      <td>66</td>\n",
              "    </tr>\n",
              "    <tr>\n",
              "      <th>15</th>\n",
              "      <td>75</td>\n",
              "    </tr>\n",
              "    <tr>\n",
              "      <th>16</th>\n",
              "      <td>79</td>\n",
              "    </tr>\n",
              "    <tr>\n",
              "      <th>17</th>\n",
              "      <td>81</td>\n",
              "    </tr>\n",
              "    <tr>\n",
              "      <th>18</th>\n",
              "      <td>94</td>\n",
              "    </tr>\n",
              "    <tr>\n",
              "      <th>19</th>\n",
              "      <td>99</td>\n",
              "    </tr>\n",
              "  </tbody>\n",
              "</table>\n",
              "</div>"
            ],
            "text/plain": [
              "    Id\n",
              "0    4\n",
              "1    7\n",
              "2   11\n",
              "3   13\n",
              "4   25\n",
              "5   33\n",
              "6   38\n",
              "7   41\n",
              "8   46\n",
              "9   47\n",
              "10  49\n",
              "11  50\n",
              "12  52\n",
              "13  63\n",
              "14  66\n",
              "15  75\n",
              "16  79\n",
              "17  81\n",
              "18  94\n",
              "19  99"
            ]
          },
          "metadata": {
            "tags": []
          },
          "execution_count": 31
        }
      ]
    }
  ]
}