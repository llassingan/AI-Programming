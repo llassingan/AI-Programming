{
  "nbformat": 4,
  "nbformat_minor": 0,
  "metadata": {
    "colab": {
      "name": "Salinan dari tubesAI.ipynb",
      "provenance": [],
      "collapsed_sections": [],
      "toc_visible": true
    },
    "kernelspec": {
      "name": "python3",
      "display_name": "Python 3"
    }
  },
  "cells": [
    {
      "cell_type": "markdown",
      "metadata": {
        "id": "CAqiEh-r5Ncm"
      },
      "source": [
        "#TUGAS PEMROGRAMAN 3 : LEARNING\r\n",
        "Almanik Balingga - 1301184253 - IF-42-10"
      ]
    },
    {
      "cell_type": "markdown",
      "metadata": {
        "id": "zA4F0MNOok1Z"
      },
      "source": [
        "##Connecting to GDrive"
      ]
    },
    {
      "cell_type": "code",
      "metadata": {
        "colab": {
          "base_uri": "https://localhost:8080/"
        },
        "id": "neRMZaZOrX5y",
        "outputId": "3ec140b4-0afe-42cf-df22-89a33375e2f7"
      },
      "source": [
        "from google.colab import drive\n",
        "drive.mount('/gdrive')\n",
        "%cd /gdrive/My Drive/tubes/AI"
      ],
      "execution_count": 1,
      "outputs": [
        {
          "output_type": "stream",
          "text": [
            "Mounted at /gdrive\n",
            "/gdrive/My Drive/tubes/AI\n"
          ],
          "name": "stdout"
        }
      ]
    },
    {
      "cell_type": "markdown",
      "metadata": {
        "id": "BTX9vGExop1H"
      },
      "source": [
        "##Import Library"
      ]
    },
    {
      "cell_type": "code",
      "metadata": {
        "id": "cPa4syLhnQO4"
      },
      "source": [
        "import pandas as pd #import dong\r\n",
        "import numpy as np #import dong lah\r\n",
        "import matplotlib.pyplot as plt #import dong lah uhuy"
      ],
      "execution_count": 2,
      "outputs": []
    },
    {
      "cell_type": "markdown",
      "metadata": {
        "id": "zB6dSn5fSBIM"
      },
      "source": [
        "##PREPROCESSING"
      ]
    },
    {
      "cell_type": "markdown",
      "metadata": {
        "id": "IT7kuHmCotY4"
      },
      "source": [
        "###Load Dataframe"
      ]
    },
    {
      "cell_type": "code",
      "metadata": {
        "id": "EoMa3I1yoSnR"
      },
      "source": [
        "df = pd.read_csv('Diabetes.csv') #load data dong"
      ],
      "execution_count": 3,
      "outputs": []
    },
    {
      "cell_type": "code",
      "metadata": {
        "colab": {
          "base_uri": "https://localhost:8080/",
          "height": 204
        },
        "id": "szsjYUK3GZ5M",
        "outputId": "c2288341-273b-4aa6-8719-b25e4fafee9b"
      },
      "source": [
        "df = df.iloc[:765,:] #ngebuang 3 baris terakhir karena kata Bapak Jondri tidak kelipatan 5\r\n",
        "df.head()"
      ],
      "execution_count": 4,
      "outputs": [
        {
          "output_type": "execute_result",
          "data": {
            "text/html": [
              "<div>\n",
              "<style scoped>\n",
              "    .dataframe tbody tr th:only-of-type {\n",
              "        vertical-align: middle;\n",
              "    }\n",
              "\n",
              "    .dataframe tbody tr th {\n",
              "        vertical-align: top;\n",
              "    }\n",
              "\n",
              "    .dataframe thead th {\n",
              "        text-align: right;\n",
              "    }\n",
              "</style>\n",
              "<table border=\"1\" class=\"dataframe\">\n",
              "  <thead>\n",
              "    <tr style=\"text-align: right;\">\n",
              "      <th></th>\n",
              "      <th>Pregnancies</th>\n",
              "      <th>Glucose</th>\n",
              "      <th>BloodPressure</th>\n",
              "      <th>SkinThickness</th>\n",
              "      <th>Insulin</th>\n",
              "      <th>BMI</th>\n",
              "      <th>DiabetesPedigreeFunction</th>\n",
              "      <th>Age</th>\n",
              "      <th>Outcome</th>\n",
              "    </tr>\n",
              "  </thead>\n",
              "  <tbody>\n",
              "    <tr>\n",
              "      <th>0</th>\n",
              "      <td>6</td>\n",
              "      <td>148</td>\n",
              "      <td>72</td>\n",
              "      <td>35</td>\n",
              "      <td>0</td>\n",
              "      <td>33.6</td>\n",
              "      <td>0.627</td>\n",
              "      <td>50</td>\n",
              "      <td>1</td>\n",
              "    </tr>\n",
              "    <tr>\n",
              "      <th>1</th>\n",
              "      <td>1</td>\n",
              "      <td>85</td>\n",
              "      <td>66</td>\n",
              "      <td>29</td>\n",
              "      <td>0</td>\n",
              "      <td>26.6</td>\n",
              "      <td>0.351</td>\n",
              "      <td>31</td>\n",
              "      <td>0</td>\n",
              "    </tr>\n",
              "    <tr>\n",
              "      <th>2</th>\n",
              "      <td>8</td>\n",
              "      <td>183</td>\n",
              "      <td>64</td>\n",
              "      <td>0</td>\n",
              "      <td>0</td>\n",
              "      <td>23.3</td>\n",
              "      <td>0.672</td>\n",
              "      <td>32</td>\n",
              "      <td>1</td>\n",
              "    </tr>\n",
              "    <tr>\n",
              "      <th>3</th>\n",
              "      <td>1</td>\n",
              "      <td>89</td>\n",
              "      <td>66</td>\n",
              "      <td>23</td>\n",
              "      <td>94</td>\n",
              "      <td>28.1</td>\n",
              "      <td>0.167</td>\n",
              "      <td>21</td>\n",
              "      <td>0</td>\n",
              "    </tr>\n",
              "    <tr>\n",
              "      <th>4</th>\n",
              "      <td>0</td>\n",
              "      <td>137</td>\n",
              "      <td>40</td>\n",
              "      <td>35</td>\n",
              "      <td>168</td>\n",
              "      <td>43.1</td>\n",
              "      <td>2.288</td>\n",
              "      <td>33</td>\n",
              "      <td>1</td>\n",
              "    </tr>\n",
              "  </tbody>\n",
              "</table>\n",
              "</div>"
            ],
            "text/plain": [
              "   Pregnancies  Glucose  BloodPressure  ...  DiabetesPedigreeFunction  Age  Outcome\n",
              "0            6      148             72  ...                     0.627   50        1\n",
              "1            1       85             66  ...                     0.351   31        0\n",
              "2            8      183             64  ...                     0.672   32        1\n",
              "3            1       89             66  ...                     0.167   21        0\n",
              "4            0      137             40  ...                     2.288   33        1\n",
              "\n",
              "[5 rows x 9 columns]"
            ]
          },
          "metadata": {
            "tags": []
          },
          "execution_count": 4
        }
      ]
    },
    {
      "cell_type": "code",
      "metadata": {
        "colab": {
          "base_uri": "https://localhost:8080/"
        },
        "id": "KrSTo9h9WkKd",
        "outputId": "68eb4a70-417d-46a0-9ab6-e1f1fecfa51a"
      },
      "source": [
        "df.shape #udah 765 baris"
      ],
      "execution_count": 5,
      "outputs": [
        {
          "output_type": "execute_result",
          "data": {
            "text/plain": [
              "(765, 9)"
            ]
          },
          "metadata": {
            "tags": []
          },
          "execution_count": 5
        }
      ]
    },
    {
      "cell_type": "code",
      "metadata": {
        "colab": {
          "base_uri": "https://localhost:8080/",
          "height": 328
        },
        "id": "sri4QKtD_GMs",
        "outputId": "6830c591-ac7a-45ec-e131-7f510e2a8747"
      },
      "source": [
        "df.describe().T #liat dulu biaar seperti data scientist"
      ],
      "execution_count": 6,
      "outputs": [
        {
          "output_type": "execute_result",
          "data": {
            "text/html": [
              "<div>\n",
              "<style scoped>\n",
              "    .dataframe tbody tr th:only-of-type {\n",
              "        vertical-align: middle;\n",
              "    }\n",
              "\n",
              "    .dataframe tbody tr th {\n",
              "        vertical-align: top;\n",
              "    }\n",
              "\n",
              "    .dataframe thead th {\n",
              "        text-align: right;\n",
              "    }\n",
              "</style>\n",
              "<table border=\"1\" class=\"dataframe\">\n",
              "  <thead>\n",
              "    <tr style=\"text-align: right;\">\n",
              "      <th></th>\n",
              "      <th>count</th>\n",
              "      <th>mean</th>\n",
              "      <th>std</th>\n",
              "      <th>min</th>\n",
              "      <th>25%</th>\n",
              "      <th>50%</th>\n",
              "      <th>75%</th>\n",
              "      <th>max</th>\n",
              "    </tr>\n",
              "  </thead>\n",
              "  <tbody>\n",
              "    <tr>\n",
              "      <th>Pregnancies</th>\n",
              "      <td>765.0</td>\n",
              "      <td>3.850980</td>\n",
              "      <td>3.372784</td>\n",
              "      <td>0.000</td>\n",
              "      <td>1.000</td>\n",
              "      <td>3.000</td>\n",
              "      <td>6.000</td>\n",
              "      <td>17.00</td>\n",
              "    </tr>\n",
              "    <tr>\n",
              "      <th>Glucose</th>\n",
              "      <td>765.0</td>\n",
              "      <td>120.924183</td>\n",
              "      <td>32.018884</td>\n",
              "      <td>0.000</td>\n",
              "      <td>99.000</td>\n",
              "      <td>117.000</td>\n",
              "      <td>141.000</td>\n",
              "      <td>199.00</td>\n",
              "    </tr>\n",
              "    <tr>\n",
              "      <th>BloodPressure</th>\n",
              "      <td>765.0</td>\n",
              "      <td>69.112418</td>\n",
              "      <td>19.390663</td>\n",
              "      <td>0.000</td>\n",
              "      <td>62.000</td>\n",
              "      <td>72.000</td>\n",
              "      <td>80.000</td>\n",
              "      <td>122.00</td>\n",
              "    </tr>\n",
              "    <tr>\n",
              "      <th>SkinThickness</th>\n",
              "      <td>765.0</td>\n",
              "      <td>20.546405</td>\n",
              "      <td>15.961488</td>\n",
              "      <td>0.000</td>\n",
              "      <td>0.000</td>\n",
              "      <td>23.000</td>\n",
              "      <td>32.000</td>\n",
              "      <td>99.00</td>\n",
              "    </tr>\n",
              "    <tr>\n",
              "      <th>Insulin</th>\n",
              "      <td>765.0</td>\n",
              "      <td>79.966013</td>\n",
              "      <td>115.391838</td>\n",
              "      <td>0.000</td>\n",
              "      <td>0.000</td>\n",
              "      <td>32.000</td>\n",
              "      <td>128.000</td>\n",
              "      <td>846.00</td>\n",
              "    </tr>\n",
              "    <tr>\n",
              "      <th>BMI</th>\n",
              "      <td>765.0</td>\n",
              "      <td>32.004706</td>\n",
              "      <td>7.896328</td>\n",
              "      <td>0.000</td>\n",
              "      <td>27.300</td>\n",
              "      <td>32.000</td>\n",
              "      <td>36.600</td>\n",
              "      <td>67.10</td>\n",
              "    </tr>\n",
              "    <tr>\n",
              "      <th>DiabetesPedigreeFunction</th>\n",
              "      <td>765.0</td>\n",
              "      <td>0.472539</td>\n",
              "      <td>0.331798</td>\n",
              "      <td>0.078</td>\n",
              "      <td>0.243</td>\n",
              "      <td>0.375</td>\n",
              "      <td>0.627</td>\n",
              "      <td>2.42</td>\n",
              "    </tr>\n",
              "    <tr>\n",
              "      <th>Age</th>\n",
              "      <td>765.0</td>\n",
              "      <td>33.240523</td>\n",
              "      <td>11.766363</td>\n",
              "      <td>21.000</td>\n",
              "      <td>24.000</td>\n",
              "      <td>29.000</td>\n",
              "      <td>41.000</td>\n",
              "      <td>81.00</td>\n",
              "    </tr>\n",
              "    <tr>\n",
              "      <th>Outcome</th>\n",
              "      <td>765.0</td>\n",
              "      <td>0.349020</td>\n",
              "      <td>0.476972</td>\n",
              "      <td>0.000</td>\n",
              "      <td>0.000</td>\n",
              "      <td>0.000</td>\n",
              "      <td>1.000</td>\n",
              "      <td>1.00</td>\n",
              "    </tr>\n",
              "  </tbody>\n",
              "</table>\n",
              "</div>"
            ],
            "text/plain": [
              "                          count        mean  ...      75%     max\n",
              "Pregnancies               765.0    3.850980  ...    6.000   17.00\n",
              "Glucose                   765.0  120.924183  ...  141.000  199.00\n",
              "BloodPressure             765.0   69.112418  ...   80.000  122.00\n",
              "SkinThickness             765.0   20.546405  ...   32.000   99.00\n",
              "Insulin                   765.0   79.966013  ...  128.000  846.00\n",
              "BMI                       765.0   32.004706  ...   36.600   67.10\n",
              "DiabetesPedigreeFunction  765.0    0.472539  ...    0.627    2.42\n",
              "Age                       765.0   33.240523  ...   41.000   81.00\n",
              "Outcome                   765.0    0.349020  ...    1.000    1.00\n",
              "\n",
              "[9 rows x 8 columns]"
            ]
          },
          "metadata": {
            "tags": []
          },
          "execution_count": 6
        }
      ]
    },
    {
      "cell_type": "markdown",
      "metadata": {
        "id": "sAF3juPJkX-U"
      },
      "source": [
        "Terdapat beberapa kolom data yang nilai minimumnya 0, utk pregnancies dan outcome masih masuk akal, karena kehamilan bisa bernilai 0, tapi utk BMI, Insulin, SkinThickness, BloodPressure, dan Glucose itu tidak wajar/tidak valid, sehingga dapat dilakukan perbaikan data.\r\n",
        "\r\n",
        "Referensi : <br>\r\n",
        "1. https://www.google.com/amp/s/www.diabetesselfmanagement.com/blog/do-you-know-your-insulin-level/amp/ <br>\r\n",
        "2. https://www.diabetes.co.uk/diabetes_care/blood-sugar-level-ranges.html <br>\r\n",
        "3. https://www.omnicalculator.com/health/bmi (di bagian rumus BMI) <br>\r\n",
        "4. https://www.mayoclinic.org/diseases-conditions/low-blood-pressure/symptoms-causes/syc-20355465 (dalam kasus ini, tekanan darah = 0 jika pasien dalam kondisi ekstrem. tetapi jika dilihat dari data, akan terlalu banyak kasus \"langka\" ini karena banyak yang bernilai 0) <br>\r\n",
        "5. https://en.wikipedia.org/wiki/Human_skin <br>\r\n",
        "6. https://towardsdatascience.com/model-selection-tuning-and-evaluation-in-k-nearest-neighbors-6d3024d78745\r\n",
        "\r\n"
      ]
    },
    {
      "cell_type": "code",
      "metadata": {
        "colab": {
          "base_uri": "https://localhost:8080/"
        },
        "id": "KvjRhIfLLJ5o",
        "outputId": "8d2017a8-1abb-49a0-c674-ddac76fbdae6"
      },
      "source": [
        "df = df.copy()\r\n",
        "tmp = ['Glucose','BloodPressure','SkinThickness','Insulin','BMI'] \r\n",
        "df[tmp] = df[tmp].replace(0,np.NaN)\r\n",
        "print(df.isna().sum())\r\n",
        "\r\n",
        "#kode ini akan mengisi angka 0 dengan NaN sehingga selanjutnya akan mudah untuk di isi dengan fillna"
      ],
      "execution_count": 7,
      "outputs": [
        {
          "output_type": "stream",
          "text": [
            "Pregnancies                   0\n",
            "Glucose                       5\n",
            "BloodPressure                35\n",
            "SkinThickness               226\n",
            "Insulin                     372\n",
            "BMI                          11\n",
            "DiabetesPedigreeFunction      0\n",
            "Age                           0\n",
            "Outcome                       0\n",
            "dtype: int64\n"
          ],
          "name": "stdout"
        }
      ]
    },
    {
      "cell_type": "code",
      "metadata": {
        "id": "ucEI5mFNL4yt"
      },
      "source": [
        "df['Glucose'].fillna(df['Glucose'].mean(), inplace = True)\r\n",
        "df['BloodPressure'].fillna(df['BloodPressure'].mean(), inplace = True)\r\n",
        "df['SkinThickness'].fillna(df['SkinThickness'].median(), inplace = True)\r\n",
        "df['Insulin'].fillna(df['Insulin'].median(), inplace = True)\r\n",
        "df['BMI'].fillna(df['BMI'].median(), inplace = True)\r\n",
        "\r\n",
        "#mengisi missing value dengan rata rata dan nilai median"
      ],
      "execution_count": 8,
      "outputs": []
    },
    {
      "cell_type": "code",
      "metadata": {
        "colab": {
          "base_uri": "https://localhost:8080/"
        },
        "id": "sOFLKorFL-2O",
        "outputId": "1d942927-569d-4faa-db37-24aa13b42144"
      },
      "source": [
        "print(df.isna().sum())"
      ],
      "execution_count": 9,
      "outputs": [
        {
          "output_type": "stream",
          "text": [
            "Pregnancies                 0\n",
            "Glucose                     0\n",
            "BloodPressure               0\n",
            "SkinThickness               0\n",
            "Insulin                     0\n",
            "BMI                         0\n",
            "DiabetesPedigreeFunction    0\n",
            "Age                         0\n",
            "Outcome                     0\n",
            "dtype: int64\n"
          ],
          "name": "stdout"
        }
      ]
    },
    {
      "cell_type": "code",
      "metadata": {
        "colab": {
          "base_uri": "https://localhost:8080/",
          "height": 328
        },
        "id": "WgNww795Jbi4",
        "outputId": "85404b07-7854-4c9a-d028-2c3b0fb154e2"
      },
      "source": [
        "df.describe().T"
      ],
      "execution_count": 10,
      "outputs": [
        {
          "output_type": "execute_result",
          "data": {
            "text/html": [
              "<div>\n",
              "<style scoped>\n",
              "    .dataframe tbody tr th:only-of-type {\n",
              "        vertical-align: middle;\n",
              "    }\n",
              "\n",
              "    .dataframe tbody tr th {\n",
              "        vertical-align: top;\n",
              "    }\n",
              "\n",
              "    .dataframe thead th {\n",
              "        text-align: right;\n",
              "    }\n",
              "</style>\n",
              "<table border=\"1\" class=\"dataframe\">\n",
              "  <thead>\n",
              "    <tr style=\"text-align: right;\">\n",
              "      <th></th>\n",
              "      <th>count</th>\n",
              "      <th>mean</th>\n",
              "      <th>std</th>\n",
              "      <th>min</th>\n",
              "      <th>25%</th>\n",
              "      <th>50%</th>\n",
              "      <th>75%</th>\n",
              "      <th>max</th>\n",
              "    </tr>\n",
              "  </thead>\n",
              "  <tbody>\n",
              "    <tr>\n",
              "      <th>Pregnancies</th>\n",
              "      <td>765.0</td>\n",
              "      <td>3.850980</td>\n",
              "      <td>3.372784</td>\n",
              "      <td>0.000</td>\n",
              "      <td>1.000</td>\n",
              "      <td>3.000000</td>\n",
              "      <td>6.000</td>\n",
              "      <td>17.00</td>\n",
              "    </tr>\n",
              "    <tr>\n",
              "      <th>Glucose</th>\n",
              "      <td>765.0</td>\n",
              "      <td>121.719737</td>\n",
              "      <td>30.477554</td>\n",
              "      <td>44.000</td>\n",
              "      <td>100.000</td>\n",
              "      <td>117.000000</td>\n",
              "      <td>141.000</td>\n",
              "      <td>199.00</td>\n",
              "    </tr>\n",
              "    <tr>\n",
              "      <th>BloodPressure</th>\n",
              "      <td>765.0</td>\n",
              "      <td>72.426027</td>\n",
              "      <td>12.111421</td>\n",
              "      <td>24.000</td>\n",
              "      <td>64.000</td>\n",
              "      <td>72.426027</td>\n",
              "      <td>80.000</td>\n",
              "      <td>122.00</td>\n",
              "    </tr>\n",
              "    <tr>\n",
              "      <th>SkinThickness</th>\n",
              "      <td>765.0</td>\n",
              "      <td>29.113725</td>\n",
              "      <td>8.805423</td>\n",
              "      <td>7.000</td>\n",
              "      <td>25.000</td>\n",
              "      <td>29.000000</td>\n",
              "      <td>32.000</td>\n",
              "      <td>99.00</td>\n",
              "    </tr>\n",
              "    <tr>\n",
              "      <th>Insulin</th>\n",
              "      <td>765.0</td>\n",
              "      <td>140.750327</td>\n",
              "      <td>86.542527</td>\n",
              "      <td>14.000</td>\n",
              "      <td>122.000</td>\n",
              "      <td>125.000000</td>\n",
              "      <td>128.000</td>\n",
              "      <td>846.00</td>\n",
              "    </tr>\n",
              "    <tr>\n",
              "      <th>BMI</th>\n",
              "      <td>765.0</td>\n",
              "      <td>32.469869</td>\n",
              "      <td>6.883986</td>\n",
              "      <td>18.200</td>\n",
              "      <td>27.500</td>\n",
              "      <td>32.350000</td>\n",
              "      <td>36.600</td>\n",
              "      <td>67.10</td>\n",
              "    </tr>\n",
              "    <tr>\n",
              "      <th>DiabetesPedigreeFunction</th>\n",
              "      <td>765.0</td>\n",
              "      <td>0.472539</td>\n",
              "      <td>0.331798</td>\n",
              "      <td>0.078</td>\n",
              "      <td>0.243</td>\n",
              "      <td>0.375000</td>\n",
              "      <td>0.627</td>\n",
              "      <td>2.42</td>\n",
              "    </tr>\n",
              "    <tr>\n",
              "      <th>Age</th>\n",
              "      <td>765.0</td>\n",
              "      <td>33.240523</td>\n",
              "      <td>11.766363</td>\n",
              "      <td>21.000</td>\n",
              "      <td>24.000</td>\n",
              "      <td>29.000000</td>\n",
              "      <td>41.000</td>\n",
              "      <td>81.00</td>\n",
              "    </tr>\n",
              "    <tr>\n",
              "      <th>Outcome</th>\n",
              "      <td>765.0</td>\n",
              "      <td>0.349020</td>\n",
              "      <td>0.476972</td>\n",
              "      <td>0.000</td>\n",
              "      <td>0.000</td>\n",
              "      <td>0.000000</td>\n",
              "      <td>1.000</td>\n",
              "      <td>1.00</td>\n",
              "    </tr>\n",
              "  </tbody>\n",
              "</table>\n",
              "</div>"
            ],
            "text/plain": [
              "                          count        mean  ...      75%     max\n",
              "Pregnancies               765.0    3.850980  ...    6.000   17.00\n",
              "Glucose                   765.0  121.719737  ...  141.000  199.00\n",
              "BloodPressure             765.0   72.426027  ...   80.000  122.00\n",
              "SkinThickness             765.0   29.113725  ...   32.000   99.00\n",
              "Insulin                   765.0  140.750327  ...  128.000  846.00\n",
              "BMI                       765.0   32.469869  ...   36.600   67.10\n",
              "DiabetesPedigreeFunction  765.0    0.472539  ...    0.627    2.42\n",
              "Age                       765.0   33.240523  ...   41.000   81.00\n",
              "Outcome                   765.0    0.349020  ...    1.000    1.00\n",
              "\n",
              "[9 rows x 8 columns]"
            ]
          },
          "metadata": {
            "tags": []
          },
          "execution_count": 10
        }
      ]
    },
    {
      "cell_type": "markdown",
      "metadata": {
        "id": "nX2ywhi5ow4h"
      },
      "source": [
        "###*'Float'ing* Everything"
      ]
    },
    {
      "cell_type": "code",
      "metadata": {
        "id": "klJwzS1DtI3P"
      },
      "source": [
        "tmp = list(df['Outcome'])             # misahin kolom outcome (karna dia kelasnya jadi gausah di normalisasi)\r\n",
        "df2 =df.iloc[:,:8].astype('float64')  #ngubah kolom selain kolom outcome jadi float\r\n",
        "df2['Outcome'] = tmp                  #nambahin kolom outcome lagi ke data yg udah float "
      ],
      "execution_count": 11,
      "outputs": []
    },
    {
      "cell_type": "code",
      "metadata": {
        "colab": {
          "base_uri": "https://localhost:8080/",
          "height": 204
        },
        "id": "VeoMGKQeZYbF",
        "outputId": "863be0fd-131b-4de3-e742-aaacb1f31d72"
      },
      "source": [
        "df2.head()"
      ],
      "execution_count": 12,
      "outputs": [
        {
          "output_type": "execute_result",
          "data": {
            "text/html": [
              "<div>\n",
              "<style scoped>\n",
              "    .dataframe tbody tr th:only-of-type {\n",
              "        vertical-align: middle;\n",
              "    }\n",
              "\n",
              "    .dataframe tbody tr th {\n",
              "        vertical-align: top;\n",
              "    }\n",
              "\n",
              "    .dataframe thead th {\n",
              "        text-align: right;\n",
              "    }\n",
              "</style>\n",
              "<table border=\"1\" class=\"dataframe\">\n",
              "  <thead>\n",
              "    <tr style=\"text-align: right;\">\n",
              "      <th></th>\n",
              "      <th>Pregnancies</th>\n",
              "      <th>Glucose</th>\n",
              "      <th>BloodPressure</th>\n",
              "      <th>SkinThickness</th>\n",
              "      <th>Insulin</th>\n",
              "      <th>BMI</th>\n",
              "      <th>DiabetesPedigreeFunction</th>\n",
              "      <th>Age</th>\n",
              "      <th>Outcome</th>\n",
              "    </tr>\n",
              "  </thead>\n",
              "  <tbody>\n",
              "    <tr>\n",
              "      <th>0</th>\n",
              "      <td>6.0</td>\n",
              "      <td>148.0</td>\n",
              "      <td>72.0</td>\n",
              "      <td>35.0</td>\n",
              "      <td>125.0</td>\n",
              "      <td>33.6</td>\n",
              "      <td>0.627</td>\n",
              "      <td>50.0</td>\n",
              "      <td>1</td>\n",
              "    </tr>\n",
              "    <tr>\n",
              "      <th>1</th>\n",
              "      <td>1.0</td>\n",
              "      <td>85.0</td>\n",
              "      <td>66.0</td>\n",
              "      <td>29.0</td>\n",
              "      <td>125.0</td>\n",
              "      <td>26.6</td>\n",
              "      <td>0.351</td>\n",
              "      <td>31.0</td>\n",
              "      <td>0</td>\n",
              "    </tr>\n",
              "    <tr>\n",
              "      <th>2</th>\n",
              "      <td>8.0</td>\n",
              "      <td>183.0</td>\n",
              "      <td>64.0</td>\n",
              "      <td>29.0</td>\n",
              "      <td>125.0</td>\n",
              "      <td>23.3</td>\n",
              "      <td>0.672</td>\n",
              "      <td>32.0</td>\n",
              "      <td>1</td>\n",
              "    </tr>\n",
              "    <tr>\n",
              "      <th>3</th>\n",
              "      <td>1.0</td>\n",
              "      <td>89.0</td>\n",
              "      <td>66.0</td>\n",
              "      <td>23.0</td>\n",
              "      <td>94.0</td>\n",
              "      <td>28.1</td>\n",
              "      <td>0.167</td>\n",
              "      <td>21.0</td>\n",
              "      <td>0</td>\n",
              "    </tr>\n",
              "    <tr>\n",
              "      <th>4</th>\n",
              "      <td>0.0</td>\n",
              "      <td>137.0</td>\n",
              "      <td>40.0</td>\n",
              "      <td>35.0</td>\n",
              "      <td>168.0</td>\n",
              "      <td>43.1</td>\n",
              "      <td>2.288</td>\n",
              "      <td>33.0</td>\n",
              "      <td>1</td>\n",
              "    </tr>\n",
              "  </tbody>\n",
              "</table>\n",
              "</div>"
            ],
            "text/plain": [
              "   Pregnancies  Glucose  BloodPressure  ...  DiabetesPedigreeFunction   Age  Outcome\n",
              "0          6.0    148.0           72.0  ...                     0.627  50.0        1\n",
              "1          1.0     85.0           66.0  ...                     0.351  31.0        0\n",
              "2          8.0    183.0           64.0  ...                     0.672  32.0        1\n",
              "3          1.0     89.0           66.0  ...                     0.167  21.0        0\n",
              "4          0.0    137.0           40.0  ...                     2.288  33.0        1\n",
              "\n",
              "[5 rows x 9 columns]"
            ]
          },
          "metadata": {
            "tags": []
          },
          "execution_count": 12
        }
      ]
    },
    {
      "cell_type": "markdown",
      "metadata": {
        "id": "Afi16DeyZfpQ"
      },
      "source": [
        "###Normalisasi Data"
      ]
    },
    {
      "cell_type": "markdown",
      "metadata": {
        "id": "tngDRGq5rZBm"
      },
      "source": [
        "![image.png](data:image/png;base64,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)\r\n",
        "\r\n",
        "<br> Memakai scaling Normalisasi karena algoritma yang digunakan berbasis jarak"
      ]
    },
    {
      "cell_type": "code",
      "metadata": {
        "id": "kit52-y1jRaQ"
      },
      "source": [
        "def normal(x):\r\n",
        "  return (x-x.min()) / (x.max()-x.min())"
      ],
      "execution_count": 13,
      "outputs": []
    },
    {
      "cell_type": "code",
      "metadata": {
        "id": "QHddA3RajSHP"
      },
      "source": [
        "col = list(df2.columns)                         #ambil daftar nama kolom yg ada\r\n",
        "for i in range(len(col)-1):                     #perulangan sepanjang kolom -1 (karena kolom outcome ga di normalisasi)\r\n",
        "  df2[[col[i]]] = df2[[col[i]]].apply(normal)   #proses perhitungan normalisasi"
      ],
      "execution_count": 14,
      "outputs": []
    },
    {
      "cell_type": "code",
      "metadata": {
        "colab": {
          "base_uri": "https://localhost:8080/",
          "height": 204
        },
        "id": "xQObITw8jiSx",
        "outputId": "aea49f74-622c-4c4d-8ed6-2308f062eadd"
      },
      "source": [
        "df2.head()"
      ],
      "execution_count": 15,
      "outputs": [
        {
          "output_type": "execute_result",
          "data": {
            "text/html": [
              "<div>\n",
              "<style scoped>\n",
              "    .dataframe tbody tr th:only-of-type {\n",
              "        vertical-align: middle;\n",
              "    }\n",
              "\n",
              "    .dataframe tbody tr th {\n",
              "        vertical-align: top;\n",
              "    }\n",
              "\n",
              "    .dataframe thead th {\n",
              "        text-align: right;\n",
              "    }\n",
              "</style>\n",
              "<table border=\"1\" class=\"dataframe\">\n",
              "  <thead>\n",
              "    <tr style=\"text-align: right;\">\n",
              "      <th></th>\n",
              "      <th>Pregnancies</th>\n",
              "      <th>Glucose</th>\n",
              "      <th>BloodPressure</th>\n",
              "      <th>SkinThickness</th>\n",
              "      <th>Insulin</th>\n",
              "      <th>BMI</th>\n",
              "      <th>DiabetesPedigreeFunction</th>\n",
              "      <th>Age</th>\n",
              "      <th>Outcome</th>\n",
              "    </tr>\n",
              "  </thead>\n",
              "  <tbody>\n",
              "    <tr>\n",
              "      <th>0</th>\n",
              "      <td>0.352941</td>\n",
              "      <td>0.670968</td>\n",
              "      <td>0.489796</td>\n",
              "      <td>0.304348</td>\n",
              "      <td>0.133413</td>\n",
              "      <td>0.314928</td>\n",
              "      <td>0.234415</td>\n",
              "      <td>0.483333</td>\n",
              "      <td>1</td>\n",
              "    </tr>\n",
              "    <tr>\n",
              "      <th>1</th>\n",
              "      <td>0.058824</td>\n",
              "      <td>0.264516</td>\n",
              "      <td>0.428571</td>\n",
              "      <td>0.239130</td>\n",
              "      <td>0.133413</td>\n",
              "      <td>0.171779</td>\n",
              "      <td>0.116567</td>\n",
              "      <td>0.166667</td>\n",
              "      <td>0</td>\n",
              "    </tr>\n",
              "    <tr>\n",
              "      <th>2</th>\n",
              "      <td>0.470588</td>\n",
              "      <td>0.896774</td>\n",
              "      <td>0.408163</td>\n",
              "      <td>0.239130</td>\n",
              "      <td>0.133413</td>\n",
              "      <td>0.104294</td>\n",
              "      <td>0.253629</td>\n",
              "      <td>0.183333</td>\n",
              "      <td>1</td>\n",
              "    </tr>\n",
              "    <tr>\n",
              "      <th>3</th>\n",
              "      <td>0.058824</td>\n",
              "      <td>0.290323</td>\n",
              "      <td>0.428571</td>\n",
              "      <td>0.173913</td>\n",
              "      <td>0.096154</td>\n",
              "      <td>0.202454</td>\n",
              "      <td>0.038002</td>\n",
              "      <td>0.000000</td>\n",
              "      <td>0</td>\n",
              "    </tr>\n",
              "    <tr>\n",
              "      <th>4</th>\n",
              "      <td>0.000000</td>\n",
              "      <td>0.600000</td>\n",
              "      <td>0.163265</td>\n",
              "      <td>0.304348</td>\n",
              "      <td>0.185096</td>\n",
              "      <td>0.509202</td>\n",
              "      <td>0.943638</td>\n",
              "      <td>0.200000</td>\n",
              "      <td>1</td>\n",
              "    </tr>\n",
              "  </tbody>\n",
              "</table>\n",
              "</div>"
            ],
            "text/plain": [
              "   Pregnancies   Glucose  ...       Age  Outcome\n",
              "0     0.352941  0.670968  ...  0.483333        1\n",
              "1     0.058824  0.264516  ...  0.166667        0\n",
              "2     0.470588  0.896774  ...  0.183333        1\n",
              "3     0.058824  0.290323  ...  0.000000        0\n",
              "4     0.000000  0.600000  ...  0.200000        1\n",
              "\n",
              "[5 rows x 9 columns]"
            ]
          },
          "metadata": {
            "tags": []
          },
          "execution_count": 15
        }
      ]
    },
    {
      "cell_type": "markdown",
      "metadata": {
        "id": "fV_jsV3CbR2r"
      },
      "source": [
        "###Train - Test - Split\r\n",
        "<br>\r\n",
        "Fungsi ini nantinya akan memecah data mennjadi beberapa bagian sesuai nilai fold yang diterima. Dalam kasus ini akan dikembalikan(return) dalam bentuk :\r\n",
        "\r\n",
        "\r\n",
        "```\r\n",
        "hasil = [[dtrain1,dtest1],[dtrain2,dtest2],..[dtrainN,dtestN]]\r\n",
        "```\r\n",
        "Fungsi ini dalam membagi data akan menggunakan stratify = kelas. Yaitu misalkan di dalam dataframe terdapat kelas 1 = 25% data, dan kelas 2= 75% data. Maka dalam tiap split juga akan terbagi menjadi 25% data kelas 1 dan 75% data kelas 2\r\n"
      ]
    },
    {
      "cell_type": "markdown",
      "metadata": {
        "id": "5zaXx2xdtNSD"
      },
      "source": [
        "####FUNGSI INI YANG DIPILIH KARENA MENGHASILKAN DATASET YANG LEBIH BAGUS UNTUK TRAINING\r\n"
      ]
    },
    {
      "cell_type": "code",
      "metadata": {
        "id": "_gF8hKxZghzl"
      },
      "source": [
        "def traintestsplit2(dataframe,fold):\r\n",
        "  kls1 = dataframe[dataframe.Outcome == 1]    # ambil data yg kelas nya 1\r\n",
        "  kls2 = dataframe[dataframe.Outcome == 0]    # ambil data yg kelas nya 0\r\n",
        "  k_fold_dataset=[]                           # siapin  list buat nampung hasil split\r\n",
        "  testpercentage= 1/fold                      # membuat persentase datatest (dalam hal ini nanti akan jadi 20%)\r\n",
        "  x = 0                                       # inisiasi variable untuk perpindahan iloc[x:blabla] utk datatest\r\n",
        "  y = int(testpercentage*len(kls1.index))     # inisaisi variable untuk perpindahan iloc [blabla:y] utk datatest\r\n",
        "  y3 = y                                      # inisiasi variable untuk agar batas atas berubah\r\n",
        "                                        \r\n",
        "  y4 = int(testpercentage*len(kls2.index))    # agar batas atas berubah\r\n",
        "  y1 = len(kls2.index)                        # inisiasi variable untuk perpindahan iloc[blabla:y1] utk datatrain            \r\n",
        "  x1 = len(kls2.index) - y4                   # inisiasi variable untuk perpindahan iloc[x1:blabla] utk datatrain\r\n",
        "  for i in range(fold):                       # looping sebanyak berapa lipatan\r\n",
        "    testdata1 = kls1.iloc[x:y]                # tetsdata1 menyimpan 20% data yang memiliki kelas = 1 (dari 297 data dalam kasus ini)\r\n",
        "    traindata1 = kls1.drop(testdata1.index)   # traindata1 menyimpan 80% daat yang memiliki kelas = 1 (dari 297 data dalam kasus ini)\r\n",
        "    \r\n",
        "    x = y                                     \r\n",
        "    y = y+y3                                  # jadi dua variable diatas untuk yg awalnya iloc[0,53(20% data)] menjadi .iloc[53:106] (untuk lipatan selanjutnya)\r\n",
        "    testdata2 = kls2.iloc[x1:y1]              #sama seperti beberapa baris kode diatas cuma bedanya ini untuk yg kelasnay = 0\r\n",
        "    traindata2 = kls2.drop(testdata2.index)\r\n",
        "    y1 = x1\r\n",
        "    x1 = y1-y4\r\n",
        "    \r\n",
        "\r\n",
        "    k_fold_dataset.append([traindata1.append(traindata2, ignore_index=True),testdata1.append(testdata2, ignore_index=True)]) #dimasukkan dalam list\r\n",
        "  return k_fold_dataset"
      ],
      "execution_count": 16,
      "outputs": []
    },
    {
      "cell_type": "code",
      "metadata": {
        "id": "_to4PiUZbcZD"
      },
      "source": [
        "#TIDAK DIGUNAKAN\r\n",
        "\r\n",
        "def traintestsplit(dataframe,fold):\r\n",
        "  kls1 = dataframe[dataframe.Outcome == 1]    # ambil data yg kelas nya 1\r\n",
        "  kls2 = dataframe[dataframe.Outcome == 0]    # ambil data yg kelas nya 0\r\n",
        "  k_fold_dataset=[]                           # siapin  list buat nampung hasil split\r\n",
        "  testpercentage= 1/fold                      # membuat persentase datatest (dalam hal ini nanti akan jadi 20%)\r\n",
        "  x = 0                                       # inisiasi variable untuk perpindahan iloc[x:blabla] utk datatest\r\n",
        "  y = int(testpercentage*len(kls1.index))     # inisaisi variable untuk perpindahan iloc [blabla:y] utk datatest\r\n",
        "  y3 = y                                      # inisiasi variable untuk agar batas atas berubah\r\n",
        "  x1 = 0                                      # inisiasi variable untuk perpindahan iloc[x1:blabla] utk datatrain\r\n",
        "  y1 = int(testpercentage*len(kls2.index))    # inisiasi variable untuk perpindahan iloc[blabla:y1] utk datatrain\r\n",
        "  y4 = y1                                     # agar batas atas berubah\r\n",
        "  for i in range(fold):                       # looping sebanyak berapa lipatan\r\n",
        "    testdata1 = kls1.iloc[x:y]                # tetsdata1 menyimpan 20% data yang memiliki kelas = 1 (dari 297 data dalam kasus ini)\r\n",
        "    traindata1 = kls1.drop(testdata1.index)   # traindata1 menyimpan 80% daat yang memiliki kelas = 1 (dari 297 data dalam kasus ini)\r\n",
        "    \r\n",
        "    x = y                                     \r\n",
        "    y = y+y3                                  # jadi dua variable diatas untuk yg awalnya iloc[0,53(20% data)] menjadi .iloc[53:106] (untuk lipatan selanjutnya)\r\n",
        "    testdata2 = kls2.iloc[x1:y1]              #sama seperti beberapa baris kode diatas cuma bedanya ini untuk yg kelasnay = 0\r\n",
        "    traindata2 = kls2.drop(testdata2.index)\r\n",
        "    \r\n",
        "    x1 = y1\r\n",
        "    y1 = y1+y4\r\n",
        "\r\n",
        "    k_fold_dataset.append([traindata1.append(traindata2, ignore_index=True),testdata1.append(testdata2, ignore_index=True)]) #dimasukkan dalam list\r\n",
        "  return k_fold_dataset"
      ],
      "execution_count": 18,
      "outputs": []
    },
    {
      "cell_type": "markdown",
      "metadata": {
        "id": "E47e5jOxj5gi"
      },
      "source": [
        "##Fungsi Fungsi KNN"
      ]
    },
    {
      "cell_type": "markdown",
      "metadata": {
        "id": "X80m8IcFkCeu"
      },
      "source": [
        "###Menghitung Jarak"
      ]
    },
    {
      "cell_type": "code",
      "metadata": {
        "id": "9R9wRF_FkByu"
      },
      "source": [
        "def hitungjarak(kiri,kanan):  \r\n",
        "\r\n",
        "  #manhattan\r\n",
        "  # sum = 0                           #untuk menyimpan hasil penjumlahan\r\n",
        "  # for i in range(len(kiri)):        #bakal diulang sepanjang jumlah kolom (ada 8 karena kolom Outcome ndak di hitung buat jarak)\r\n",
        "  #   sum = sum + abs(kiri[i]-kanan[i]) #penghitungan\r\n",
        "  # return sum                        #inilaih nilai jaraknya\r\n",
        "\r\n",
        "\r\n",
        "  #euclidean\r\n",
        "  sum = 0 #untuk menyimpan hasil penjumlahan\r\n",
        "  for i in range(len(kiri)): #bakal diulang sepanjang jumlah kolom (ada 8 karena kolom Outcome ndak di hitung buat jarak)\r\n",
        "    sum = sum + (kiri[i]-kanan[i])**2 #penghitungan\r\n",
        "  return np.sqrt(sum) #inilaih nilai jaraknya"
      ],
      "execution_count": 17,
      "outputs": []
    },
    {
      "cell_type": "code",
      "metadata": {
        "id": "-wPuYi58lVQH"
      },
      "source": [
        "def jarak(dfnya, trainnya,testpoint):\r\n",
        "  jaraknya = []                             #buat nampung jarak\r\n",
        "  for i in range(len(list(dfnya['Age']))):  #bakal iterasi sebanyak baris data train\r\n",
        "      p1 = testpoint                        #1 barisdata test \r\n",
        "      p2 = list(dfnya.iloc[i])              #1 baris data train \r\n",
        "      jaraknya.append([trainnya[i],hitungjarak(p1,p2)]) #menghitung jarak\r\n",
        "  return jaraknya                           #menghasilkan sebuah list berisi daftar jarak tiap baris datatrain"
      ],
      "execution_count": 18,
      "outputs": []
    },
    {
      "cell_type": "markdown",
      "metadata": {
        "id": "OunWD5q-pZaH"
      },
      "source": [
        "###Mencari kelas dari data test\r\n"
      ]
    },
    {
      "cell_type": "code",
      "metadata": {
        "id": "Gw0YVGMkpwA5"
      },
      "source": [
        "def neighbor(dtrain,dtest,k):\r\n",
        "  kelastrain = list(dtrain['Outcome'])            # simpan kelas training\r\n",
        "  kelastest = list(dtest['Outcome'])              # simpan kelas test\r\n",
        "  d_test = dtest.copy()                           #buat copy-an data biar data asli ga keubah\r\n",
        "  d_train = dtrain.copy()                         #buat copy-an data biar data asli ga keubah\r\n",
        "  d_test = d_test.drop('Outcome', axis= 1)        #drop kelas suapaya bisa itung jarak\r\n",
        "  d_train = d_train.drop('Outcome', axis= 1)      #drop kelas suapaya bisa itung jarak\r\n",
        "  \r\n",
        "  kelaspredict = []                               # buat variabel untuk simpen final kelas data test\r\n",
        "  akurasiCounter = []                             # buat variabel nilai akurasi\r\n",
        "\r\n",
        "  for i in range(len(d_test['Age'])):             #membuat perulangan sejumlah baris data test\r\n",
        "    \r\n",
        "    temp = jarak(d_train,kelastrain,list(d_test.iloc[i])) #menghitung jarak\r\n",
        "    temp = sorted(temp, key=lambda x: x[1], reverse=False) #mengurutkan list temp berdasarkan jarak terdekat\r\n",
        "    ambil_k_tetangga =[]                          #deklarasi list untuk menyimpan k tetangga     \r\n",
        "    \r\n",
        "    for j in range(k):                            #melakukan perulangan sebanyak k kali untuk menyimpan kelas yang diprediksi\r\n",
        "      ambil_k_tetangga.append(temp[j][0])         #menyimpan kelas k baris teratas (jarak paling dekat)\r\n",
        "    \r\n",
        "    if (ambil_k_tetangga.count(0) > (k // 2)):    # JIKA kelas yang bernilai 0 lebih banyak dari kelas bernilai 1 maka prediksi dianggap 0\r\n",
        "      kelaspredict.append(0)\r\n",
        "    else:                                         # JIKA kelas yang bernilai 1 lebih banyak dari kelas bernilai 0 maka prediksi dianggap 1\r\n",
        "      kelaspredict.append(1)\r\n",
        "    \r\n",
        "    if (kelastest[i] == kelaspredict[i]):         # jika kelas prediksi sama dengan kelas asli data test maka akan list akurasiCounter akan diisi 1\r\n",
        "      akurasiCounter.append(1)\r\n",
        "    else:                                         # jika kelas prediksi tidak sama dengan kelas asli data test maka akan list akurasiCounter akan diisi 0\r\n",
        "      akurasiCounter.append(0)\r\n",
        "  \r\n",
        "  akurasi = akurasiCounter.count(1)/len(kelastest)  # jumlah angka satu akan di bagi dengan panjang data test sehingga didapat nilai akurasi prediksi\r\n",
        "  \r\n",
        "  benarsalah = [kelaspredict.count(1),kelaspredict.count(0)] #return array berisi [jmlBenar,jmlSalah]\r\n",
        "  \r\n",
        "  return akurasi, benarsalah                      #di return"
      ],
      "execution_count": 19,
      "outputs": []
    },
    {
      "cell_type": "markdown",
      "metadata": {
        "id": "tcwwZA0fApM4"
      },
      "source": [
        "##Mencari *k* terbaik"
      ]
    },
    {
      "cell_type": "markdown",
      "metadata": {
        "id": "A50R_eQ148KY"
      },
      "source": [
        "###CARI K OPTIMUM\r\n",
        "Dalam hal ini menggunakan fungsi test-split kedua (traintestsplit2), dan menggunakan penghitungan jarak eulidean distance"
      ]
    },
    {
      "cell_type": "code",
      "metadata": {
        "colab": {
          "base_uri": "https://localhost:8080/"
        },
        "id": "9ipfM0RsUT0r",
        "outputId": "bc57ab01-fcd1-4f46-eba3-90fa7f6ae3e7"
      },
      "source": [
        "# test split 2, euclid\r\n",
        "\r\n",
        "kfold = 5                             # k-fold valuenya\r\n",
        "dfff = traintestsplit2(df2,kfold)     # split data \r\n",
        "dataknya =[]                          # menyimpan rata rata akurasi untuk tiap k\r\n",
        "xaxis = np.arange(1,101,2)             # x axis untuk plotting\r\n",
        "for i in range(1,101,2):               \r\n",
        "  avgacc = 0                          # penghitung akurasi rata rata tiap k\r\n",
        "  for j in range(kfold):              # perulangan untuk tiap fold data\r\n",
        "    trainyok = dfff[j][0]\r\n",
        "    testnyok = dfff[j][1]\r\n",
        "    acc, trufals = neighbor(trainyok,testnyok,i)  # menghitung akurasi\r\n",
        "    print(\"akurasi kfold ke-\",j+1,\" = \",acc)      # print akurasi tiap fold\r\n",
        "    avgacc = avgacc+acc                           # menghitung avg akurasi  \r\n",
        "  print(\"rerata akurasi untuk k = \",i,\" adalah= \",avgacc/kfold) # print rata rata akurasi \r\n",
        "  dataknya.append(avgacc/kfold)       # rata rata akurasi utk plotting"
      ],
      "execution_count": 20,
      "outputs": [
        {
          "output_type": "stream",
          "text": [
            "akurasi kfold ke- 1  =  0.6776315789473685\n",
            "akurasi kfold ke- 2  =  0.6578947368421053\n",
            "akurasi kfold ke- 3  =  0.6842105263157895\n",
            "akurasi kfold ke- 4  =  0.6973684210526315\n",
            "akurasi kfold ke- 5  =  0.7171052631578947\n",
            "rerata akurasi untuk k =  1  adalah=  0.6868421052631579\n",
            "akurasi kfold ke- 1  =  0.6907894736842105\n",
            "akurasi kfold ke- 2  =  0.743421052631579\n",
            "akurasi kfold ke- 3  =  0.7105263157894737\n",
            "akurasi kfold ke- 4  =  0.7302631578947368\n",
            "akurasi kfold ke- 5  =  0.756578947368421\n",
            "rerata akurasi untuk k =  3  adalah=  0.726315789473684\n",
            "akurasi kfold ke- 1  =  0.7171052631578947\n",
            "akurasi kfold ke- 2  =  0.8026315789473685\n",
            "akurasi kfold ke- 3  =  0.6842105263157895\n",
            "akurasi kfold ke- 4  =  0.756578947368421\n",
            "akurasi kfold ke- 5  =  0.7368421052631579\n",
            "rerata akurasi untuk k =  5  adalah=  0.7394736842105263\n",
            "akurasi kfold ke- 1  =  0.7171052631578947\n",
            "akurasi kfold ke- 2  =  0.7763157894736842\n",
            "akurasi kfold ke- 3  =  0.7105263157894737\n",
            "akurasi kfold ke- 4  =  0.756578947368421\n",
            "akurasi kfold ke- 5  =  0.756578947368421\n",
            "rerata akurasi untuk k =  7  adalah=  0.743421052631579\n",
            "akurasi kfold ke- 1  =  0.7105263157894737\n",
            "akurasi kfold ke- 2  =  0.7763157894736842\n",
            "akurasi kfold ke- 3  =  0.7697368421052632\n",
            "akurasi kfold ke- 4  =  0.743421052631579\n",
            "akurasi kfold ke- 5  =  0.756578947368421\n",
            "rerata akurasi untuk k =  9  adalah=  0.7513157894736843\n",
            "akurasi kfold ke- 1  =  0.7171052631578947\n",
            "akurasi kfold ke- 2  =  0.7697368421052632\n",
            "akurasi kfold ke- 3  =  0.7697368421052632\n",
            "akurasi kfold ke- 4  =  0.743421052631579\n",
            "akurasi kfold ke- 5  =  0.756578947368421\n",
            "rerata akurasi untuk k =  11  adalah=  0.7513157894736843\n",
            "akurasi kfold ke- 1  =  0.7236842105263158\n",
            "akurasi kfold ke- 2  =  0.756578947368421\n",
            "akurasi kfold ke- 3  =  0.7763157894736842\n",
            "akurasi kfold ke- 4  =  0.756578947368421\n",
            "akurasi kfold ke- 5  =  0.7828947368421053\n",
            "rerata akurasi untuk k =  13  adalah=  0.7592105263157893\n",
            "akurasi kfold ke- 1  =  0.743421052631579\n",
            "akurasi kfold ke- 2  =  0.743421052631579\n",
            "akurasi kfold ke- 3  =  0.7631578947368421\n",
            "akurasi kfold ke- 4  =  0.7697368421052632\n",
            "akurasi kfold ke- 5  =  0.8092105263157895\n",
            "rerata akurasi untuk k =  15  adalah=  0.7657894736842106\n",
            "akurasi kfold ke- 1  =  0.75\n",
            "akurasi kfold ke- 2  =  0.743421052631579\n",
            "akurasi kfold ke- 3  =  0.75\n",
            "akurasi kfold ke- 4  =  0.7368421052631579\n",
            "akurasi kfold ke- 5  =  0.8092105263157895\n",
            "rerata akurasi untuk k =  17  adalah=  0.7578947368421052\n",
            "akurasi kfold ke- 1  =  0.756578947368421\n",
            "akurasi kfold ke- 2  =  0.75\n",
            "akurasi kfold ke- 3  =  0.75\n",
            "akurasi kfold ke- 4  =  0.75\n",
            "akurasi kfold ke- 5  =  0.7960526315789473\n",
            "rerata akurasi untuk k =  19  adalah=  0.7605263157894737\n",
            "akurasi kfold ke- 1  =  0.75\n",
            "akurasi kfold ke- 2  =  0.756578947368421\n",
            "akurasi kfold ke- 3  =  0.75\n",
            "akurasi kfold ke- 4  =  0.756578947368421\n",
            "akurasi kfold ke- 5  =  0.7960526315789473\n",
            "rerata akurasi untuk k =  21  adalah=  0.761842105263158\n",
            "akurasi kfold ke- 1  =  0.7368421052631579\n",
            "akurasi kfold ke- 2  =  0.756578947368421\n",
            "akurasi kfold ke- 3  =  0.7631578947368421\n",
            "akurasi kfold ke- 4  =  0.756578947368421\n",
            "akurasi kfold ke- 5  =  0.7960526315789473\n",
            "rerata akurasi untuk k =  23  adalah=  0.7618421052631578\n",
            "akurasi kfold ke- 1  =  0.743421052631579\n",
            "akurasi kfold ke- 2  =  0.7302631578947368\n",
            "akurasi kfold ke- 3  =  0.7631578947368421\n",
            "akurasi kfold ke- 4  =  0.743421052631579\n",
            "akurasi kfold ke- 5  =  0.7828947368421053\n",
            "rerata akurasi untuk k =  25  adalah=  0.7526315789473685\n",
            "akurasi kfold ke- 1  =  0.75\n",
            "akurasi kfold ke- 2  =  0.7236842105263158\n",
            "akurasi kfold ke- 3  =  0.756578947368421\n",
            "akurasi kfold ke- 4  =  0.743421052631579\n",
            "akurasi kfold ke- 5  =  0.7894736842105263\n",
            "rerata akurasi untuk k =  27  adalah=  0.7526315789473685\n",
            "akurasi kfold ke- 1  =  0.7368421052631579\n",
            "akurasi kfold ke- 2  =  0.756578947368421\n",
            "akurasi kfold ke- 3  =  0.756578947368421\n",
            "akurasi kfold ke- 4  =  0.756578947368421\n",
            "akurasi kfold ke- 5  =  0.7894736842105263\n",
            "rerata akurasi untuk k =  29  adalah=  0.7592105263157896\n",
            "akurasi kfold ke- 1  =  0.756578947368421\n",
            "akurasi kfold ke- 2  =  0.756578947368421\n",
            "akurasi kfold ke- 3  =  0.756578947368421\n",
            "akurasi kfold ke- 4  =  0.7631578947368421\n",
            "akurasi kfold ke- 5  =  0.7894736842105263\n",
            "rerata akurasi untuk k =  31  adalah=  0.7644736842105262\n",
            "akurasi kfold ke- 1  =  0.7631578947368421\n",
            "akurasi kfold ke- 2  =  0.75\n",
            "akurasi kfold ke- 3  =  0.7697368421052632\n",
            "akurasi kfold ke- 4  =  0.7697368421052632\n",
            "akurasi kfold ke- 5  =  0.7894736842105263\n",
            "rerata akurasi untuk k =  33  adalah=  0.7684210526315789\n",
            "akurasi kfold ke- 1  =  0.756578947368421\n",
            "akurasi kfold ke- 2  =  0.75\n",
            "akurasi kfold ke- 3  =  0.7631578947368421\n",
            "akurasi kfold ke- 4  =  0.7828947368421053\n",
            "akurasi kfold ke- 5  =  0.7960526315789473\n",
            "rerata akurasi untuk k =  35  adalah=  0.7697368421052632\n",
            "akurasi kfold ke- 1  =  0.743421052631579\n",
            "akurasi kfold ke- 2  =  0.7368421052631579\n",
            "akurasi kfold ke- 3  =  0.7697368421052632\n",
            "akurasi kfold ke- 4  =  0.756578947368421\n",
            "akurasi kfold ke- 5  =  0.7894736842105263\n",
            "rerata akurasi untuk k =  37  adalah=  0.7592105263157896\n",
            "akurasi kfold ke- 1  =  0.756578947368421\n",
            "akurasi kfold ke- 2  =  0.7302631578947368\n",
            "akurasi kfold ke- 3  =  0.7631578947368421\n",
            "akurasi kfold ke- 4  =  0.7697368421052632\n",
            "akurasi kfold ke- 5  =  0.7960526315789473\n",
            "rerata akurasi untuk k =  39  adalah=  0.7631578947368421\n",
            "akurasi kfold ke- 1  =  0.7894736842105263\n",
            "akurasi kfold ke- 2  =  0.7368421052631579\n",
            "akurasi kfold ke- 3  =  0.756578947368421\n",
            "akurasi kfold ke- 4  =  0.756578947368421\n",
            "akurasi kfold ke- 5  =  0.7894736842105263\n",
            "rerata akurasi untuk k =  41  adalah=  0.7657894736842106\n",
            "akurasi kfold ke- 1  =  0.7828947368421053\n",
            "akurasi kfold ke- 2  =  0.7368421052631579\n",
            "akurasi kfold ke- 3  =  0.7631578947368421\n",
            "akurasi kfold ke- 4  =  0.756578947368421\n",
            "akurasi kfold ke- 5  =  0.7960526315789473\n",
            "rerata akurasi untuk k =  43  adalah=  0.7671052631578947\n",
            "akurasi kfold ke- 1  =  0.7894736842105263\n",
            "akurasi kfold ke- 2  =  0.7302631578947368\n",
            "akurasi kfold ke- 3  =  0.7631578947368421\n",
            "akurasi kfold ke- 4  =  0.7631578947368421\n",
            "akurasi kfold ke- 5  =  0.7960526315789473\n",
            "rerata akurasi untuk k =  45  adalah=  0.7684210526315789\n",
            "akurasi kfold ke- 1  =  0.7828947368421053\n",
            "akurasi kfold ke- 2  =  0.7368421052631579\n",
            "akurasi kfold ke- 3  =  0.7828947368421053\n",
            "akurasi kfold ke- 4  =  0.7631578947368421\n",
            "akurasi kfold ke- 5  =  0.7960526315789473\n",
            "rerata akurasi untuk k =  47  adalah=  0.7723684210526316\n",
            "akurasi kfold ke- 1  =  0.7828947368421053\n",
            "akurasi kfold ke- 2  =  0.743421052631579\n",
            "akurasi kfold ke- 3  =  0.7763157894736842\n",
            "akurasi kfold ke- 4  =  0.7631578947368421\n",
            "akurasi kfold ke- 5  =  0.7828947368421053\n",
            "rerata akurasi untuk k =  49  adalah=  0.7697368421052632\n",
            "akurasi kfold ke- 1  =  0.7763157894736842\n",
            "akurasi kfold ke- 2  =  0.75\n",
            "akurasi kfold ke- 3  =  0.7697368421052632\n",
            "akurasi kfold ke- 4  =  0.756578947368421\n",
            "akurasi kfold ke- 5  =  0.7763157894736842\n",
            "rerata akurasi untuk k =  51  adalah=  0.7657894736842105\n",
            "akurasi kfold ke- 1  =  0.7763157894736842\n",
            "akurasi kfold ke- 2  =  0.7368421052631579\n",
            "akurasi kfold ke- 3  =  0.7697368421052632\n",
            "akurasi kfold ke- 4  =  0.75\n",
            "akurasi kfold ke- 5  =  0.7697368421052632\n",
            "rerata akurasi untuk k =  53  adalah=  0.7605263157894737\n",
            "akurasi kfold ke- 1  =  0.7697368421052632\n",
            "akurasi kfold ke- 2  =  0.75\n",
            "akurasi kfold ke- 3  =  0.7828947368421053\n",
            "akurasi kfold ke- 4  =  0.756578947368421\n",
            "akurasi kfold ke- 5  =  0.7697368421052632\n",
            "rerata akurasi untuk k =  55  adalah=  0.7657894736842106\n",
            "akurasi kfold ke- 1  =  0.7631578947368421\n",
            "akurasi kfold ke- 2  =  0.743421052631579\n",
            "akurasi kfold ke- 3  =  0.7763157894736842\n",
            "akurasi kfold ke- 4  =  0.743421052631579\n",
            "akurasi kfold ke- 5  =  0.7697368421052632\n",
            "rerata akurasi untuk k =  57  adalah=  0.7592105263157894\n",
            "akurasi kfold ke- 1  =  0.7763157894736842\n",
            "akurasi kfold ke- 2  =  0.7302631578947368\n",
            "akurasi kfold ke- 3  =  0.7828947368421053\n",
            "akurasi kfold ke- 4  =  0.7368421052631579\n",
            "akurasi kfold ke- 5  =  0.7697368421052632\n",
            "rerata akurasi untuk k =  59  adalah=  0.7592105263157896\n",
            "akurasi kfold ke- 1  =  0.7631578947368421\n",
            "akurasi kfold ke- 2  =  0.743421052631579\n",
            "akurasi kfold ke- 3  =  0.7763157894736842\n",
            "akurasi kfold ke- 4  =  0.7368421052631579\n",
            "akurasi kfold ke- 5  =  0.756578947368421\n",
            "rerata akurasi untuk k =  61  adalah=  0.7552631578947369\n",
            "akurasi kfold ke- 1  =  0.7631578947368421\n",
            "akurasi kfold ke- 2  =  0.7302631578947368\n",
            "akurasi kfold ke- 3  =  0.7763157894736842\n",
            "akurasi kfold ke- 4  =  0.7236842105263158\n",
            "akurasi kfold ke- 5  =  0.756578947368421\n",
            "rerata akurasi untuk k =  63  adalah=  0.75\n",
            "akurasi kfold ke- 1  =  0.7631578947368421\n",
            "akurasi kfold ke- 2  =  0.7368421052631579\n",
            "akurasi kfold ke- 3  =  0.7763157894736842\n",
            "akurasi kfold ke- 4  =  0.7368421052631579\n",
            "akurasi kfold ke- 5  =  0.756578947368421\n",
            "rerata akurasi untuk k =  65  adalah=  0.7539473684210526\n",
            "akurasi kfold ke- 1  =  0.7763157894736842\n",
            "akurasi kfold ke- 2  =  0.75\n",
            "akurasi kfold ke- 3  =  0.7828947368421053\n",
            "akurasi kfold ke- 4  =  0.7302631578947368\n",
            "akurasi kfold ke- 5  =  0.756578947368421\n",
            "rerata akurasi untuk k =  67  adalah=  0.7592105263157893\n",
            "akurasi kfold ke- 1  =  0.7763157894736842\n",
            "akurasi kfold ke- 2  =  0.756578947368421\n",
            "akurasi kfold ke- 3  =  0.7763157894736842\n",
            "akurasi kfold ke- 4  =  0.743421052631579\n",
            "akurasi kfold ke- 5  =  0.7631578947368421\n",
            "rerata akurasi untuk k =  69  adalah=  0.763157894736842\n",
            "akurasi kfold ke- 1  =  0.7763157894736842\n",
            "akurasi kfold ke- 2  =  0.743421052631579\n",
            "akurasi kfold ke- 3  =  0.7828947368421053\n",
            "akurasi kfold ke- 4  =  0.743421052631579\n",
            "akurasi kfold ke- 5  =  0.7631578947368421\n",
            "rerata akurasi untuk k =  71  adalah=  0.761842105263158\n",
            "akurasi kfold ke- 1  =  0.7697368421052632\n",
            "akurasi kfold ke- 2  =  0.7368421052631579\n",
            "akurasi kfold ke- 3  =  0.7828947368421053\n",
            "akurasi kfold ke- 4  =  0.75\n",
            "akurasi kfold ke- 5  =  0.756578947368421\n",
            "rerata akurasi untuk k =  73  adalah=  0.7592105263157896\n",
            "akurasi kfold ke- 1  =  0.7697368421052632\n",
            "akurasi kfold ke- 2  =  0.743421052631579\n",
            "akurasi kfold ke- 3  =  0.7828947368421053\n",
            "akurasi kfold ke- 4  =  0.7302631578947368\n",
            "akurasi kfold ke- 5  =  0.7631578947368421\n",
            "rerata akurasi untuk k =  75  adalah=  0.7578947368421052\n",
            "akurasi kfold ke- 1  =  0.7697368421052632\n",
            "akurasi kfold ke- 2  =  0.7368421052631579\n",
            "akurasi kfold ke- 3  =  0.7763157894736842\n",
            "akurasi kfold ke- 4  =  0.75\n",
            "akurasi kfold ke- 5  =  0.756578947368421\n",
            "rerata akurasi untuk k =  77  adalah=  0.7578947368421053\n",
            "akurasi kfold ke- 1  =  0.7697368421052632\n",
            "akurasi kfold ke- 2  =  0.743421052631579\n",
            "akurasi kfold ke- 3  =  0.7894736842105263\n",
            "akurasi kfold ke- 4  =  0.7368421052631579\n",
            "akurasi kfold ke- 5  =  0.756578947368421\n",
            "rerata akurasi untuk k =  79  adalah=  0.7592105263157893\n",
            "akurasi kfold ke- 1  =  0.7697368421052632\n",
            "akurasi kfold ke- 2  =  0.75\n",
            "akurasi kfold ke- 3  =  0.7894736842105263\n",
            "akurasi kfold ke- 4  =  0.7368421052631579\n",
            "akurasi kfold ke- 5  =  0.7631578947368421\n",
            "rerata akurasi untuk k =  81  adalah=  0.7618421052631579\n",
            "akurasi kfold ke- 1  =  0.7697368421052632\n",
            "akurasi kfold ke- 2  =  0.756578947368421\n",
            "akurasi kfold ke- 3  =  0.7894736842105263\n",
            "akurasi kfold ke- 4  =  0.7368421052631579\n",
            "akurasi kfold ke- 5  =  0.756578947368421\n",
            "rerata akurasi untuk k =  83  adalah=  0.7618421052631579\n",
            "akurasi kfold ke- 1  =  0.7697368421052632\n",
            "akurasi kfold ke- 2  =  0.75\n",
            "akurasi kfold ke- 3  =  0.7894736842105263\n",
            "akurasi kfold ke- 4  =  0.743421052631579\n",
            "akurasi kfold ke- 5  =  0.7631578947368421\n",
            "rerata akurasi untuk k =  85  adalah=  0.763157894736842\n",
            "akurasi kfold ke- 1  =  0.7763157894736842\n",
            "akurasi kfold ke- 2  =  0.756578947368421\n",
            "akurasi kfold ke- 3  =  0.7960526315789473\n",
            "akurasi kfold ke- 4  =  0.75\n",
            "akurasi kfold ke- 5  =  0.75\n",
            "rerata akurasi untuk k =  87  adalah=  0.7657894736842106\n",
            "akurasi kfold ke- 1  =  0.7697368421052632\n",
            "akurasi kfold ke- 2  =  0.7631578947368421\n",
            "akurasi kfold ke- 3  =  0.7894736842105263\n",
            "akurasi kfold ke- 4  =  0.7631578947368421\n",
            "akurasi kfold ke- 5  =  0.7368421052631579\n",
            "rerata akurasi untuk k =  89  adalah=  0.7644736842105264\n",
            "akurasi kfold ke- 1  =  0.7697368421052632\n",
            "akurasi kfold ke- 2  =  0.756578947368421\n",
            "akurasi kfold ke- 3  =  0.7960526315789473\n",
            "akurasi kfold ke- 4  =  0.7697368421052632\n",
            "akurasi kfold ke- 5  =  0.756578947368421\n",
            "rerata akurasi untuk k =  91  adalah=  0.7697368421052632\n",
            "akurasi kfold ke- 1  =  0.7631578947368421\n",
            "akurasi kfold ke- 2  =  0.7631578947368421\n",
            "akurasi kfold ke- 3  =  0.7894736842105263\n",
            "akurasi kfold ke- 4  =  0.75\n",
            "akurasi kfold ke- 5  =  0.756578947368421\n",
            "rerata akurasi untuk k =  93  adalah=  0.7644736842105264\n",
            "akurasi kfold ke- 1  =  0.7631578947368421\n",
            "akurasi kfold ke- 2  =  0.756578947368421\n",
            "akurasi kfold ke- 3  =  0.7828947368421053\n",
            "akurasi kfold ke- 4  =  0.743421052631579\n",
            "akurasi kfold ke- 5  =  0.7631578947368421\n",
            "rerata akurasi untuk k =  95  adalah=  0.761842105263158\n",
            "akurasi kfold ke- 1  =  0.7631578947368421\n",
            "akurasi kfold ke- 2  =  0.756578947368421\n",
            "akurasi kfold ke- 3  =  0.7763157894736842\n",
            "akurasi kfold ke- 4  =  0.743421052631579\n",
            "akurasi kfold ke- 5  =  0.75\n",
            "rerata akurasi untuk k =  97  adalah=  0.7578947368421053\n",
            "akurasi kfold ke- 1  =  0.7631578947368421\n",
            "akurasi kfold ke- 2  =  0.7631578947368421\n",
            "akurasi kfold ke- 3  =  0.7894736842105263\n",
            "akurasi kfold ke- 4  =  0.743421052631579\n",
            "akurasi kfold ke- 5  =  0.75\n",
            "rerata akurasi untuk k =  99  adalah=  0.7618421052631579\n"
          ],
          "name": "stdout"
        }
      ]
    },
    {
      "cell_type": "markdown",
      "metadata": {
        "id": "grsEeGQE4mhY"
      },
      "source": [
        "###Plotting"
      ]
    },
    {
      "cell_type": "code",
      "metadata": {
        "colab": {
          "base_uri": "https://localhost:8080/",
          "height": 663
        },
        "id": "BMWoWvT3BjH_",
        "outputId": "b2b97dac-b1b8-4472-ced2-e281dcde9d87"
      },
      "source": [
        "import seaborn as sns\r\n",
        "fig, ax = plt.subplots(figsize=(16,8))\r\n",
        "ax.set_title('Grafik Rata Rata Akurasi kNN')\r\n",
        "ax.set_xlabel('nilai k')\r\n",
        "ax.set_ylabel('Akurasi')\r\n",
        "ax.plot(xaxis,dataknya, marker ='o', color = 'red')\r\n",
        "plt.style.use('seaborn')\r\n",
        "plt.show()\r\n",
        "for i in range(len(dataknya)):\r\n",
        "  if dataknya[i] == max(dataknya):\r\n",
        "    print(\"\")\r\n",
        "    print(\"K dengan Akurasi Terbaik = \", xaxis[i])\r\n",
        "    print(\"Dengan masing masing akurasi untuk tiap fold :\")\r\n",
        "    avgacc = 0\r\n",
        "    for j in range(kfold):\r\n",
        "      trainyok = dfff[j][0]\r\n",
        "      testnyok = dfff[j][1]\r\n",
        "      acc, trufals = neighbor(trainyok,testnyok,xaxis[i])\r\n",
        "      print(\"akurasi kfold ke-\",j+1,\" = \",acc)\r\n",
        "      avgacc = avgacc+acc\r\n",
        "    print(\"Dengan rata rata Akurasi = \", avgacc/kfold)\r\n",
        "    break"
      ],
      "execution_count": 21,
      "outputs": [
        {
          "output_type": "display_data",
          "data": {
            "image/png": "[encoded data removed]",
            "text/plain": [
              "<Figure size 1152x576 with 1 Axes>"
            ]
          },
          "metadata": {
            "tags": [],
            "needs_background": "light"
          }
        },
        {
          "output_type": "stream",
          "text": [
            "\n",
            "K dengan Akurasi Terbaik =  47\n",
            "Dengan masing masing akurasi untuk tiap fold :\n",
            "akurasi kfold ke- 1  =  0.7828947368421053\n",
            "akurasi kfold ke- 2  =  0.7368421052631579\n",
            "akurasi kfold ke- 3  =  0.7828947368421053\n",
            "akurasi kfold ke- 4  =  0.7631578947368421\n",
            "akurasi kfold ke- 5  =  0.7960526315789473\n",
            "Dengan rata rata Akurasi =  0.7723684210526316\n"
          ],
          "name": "stdout"
        }
      ]
    },
    {
      "cell_type": "markdown",
      "metadata": {
        "id": "dR_Hr5Y-4xIf"
      },
      "source": [
        "###PERCOBAAN LAINNYA"
      ]
    },
    {
      "cell_type": "code",
      "metadata": {
        "colab": {
          "base_uri": "https://localhost:8080/",
          "height": 1000
        },
        "id": "F1jW2fLF2nVK",
        "outputId": "1e1269d8-4109-480d-fff2-eb1b389dff08"
      },
      "source": [
        "# test split, manhattan\r\n",
        "\r\n",
        "kfold = 5\r\n",
        "dfff = traintestsplit(df2,kfold)\r\n",
        "dataknya =[]\r\n",
        "xaxis = np.arange(1,51,2)\r\n",
        "for i in range(1,51,2):\r\n",
        "  avgacc = 0\r\n",
        "  for j in range(kfold):\r\n",
        "    trainyok = dfff[j][0]\r\n",
        "    testnyok = dfff[j][1]\r\n",
        "    acc, trufals = neighbor(trainyok,testnyok,i)\r\n",
        "    print(\"akurasi kfold ke-\",j+1,\" = \",acc)\r\n",
        "    avgacc = avgacc+acc\r\n",
        "  print(\"rerata akurasi untuk k = \",i,\" adalah= \",avgacc/kfold)\r\n",
        "  dataknya.append(avgacc/kfold)\r\n",
        "plt.plot(xaxis,dataknya, color = 'red')\r\n",
        "plt.show()"
      ],
      "execution_count": 21,
      "outputs": [
        {
          "output_type": "stream",
          "text": [
            "akurasi kfold ke- 1  =  0.7039473684210527\n",
            "akurasi kfold ke- 2  =  0.6842105263157895\n",
            "akurasi kfold ke- 3  =  0.6842105263157895\n",
            "akurasi kfold ke- 4  =  0.7368421052631579\n",
            "akurasi kfold ke- 5  =  0.7039473684210527\n",
            "rerata akurasi untuk k =  1  adalah=  0.7026315789473684\n",
            "akurasi kfold ke- 1  =  0.756578947368421\n",
            "akurasi kfold ke- 2  =  0.743421052631579\n",
            "akurasi kfold ke- 3  =  0.6447368421052632\n",
            "akurasi kfold ke- 4  =  0.743421052631579\n",
            "akurasi kfold ke- 5  =  0.7039473684210527\n",
            "rerata akurasi untuk k =  3  adalah=  0.7184210526315791\n",
            "akurasi kfold ke- 1  =  0.75\n",
            "akurasi kfold ke- 2  =  0.7631578947368421\n",
            "akurasi kfold ke- 3  =  0.6973684210526315\n",
            "akurasi kfold ke- 4  =  0.7631578947368421\n",
            "akurasi kfold ke- 5  =  0.756578947368421\n",
            "rerata akurasi untuk k =  5  adalah=  0.7460526315789473\n",
            "akurasi kfold ke- 1  =  0.756578947368421\n",
            "akurasi kfold ke- 2  =  0.75\n",
            "akurasi kfold ke- 3  =  0.7368421052631579\n",
            "akurasi kfold ke- 4  =  0.7697368421052632\n",
            "akurasi kfold ke- 5  =  0.7302631578947368\n",
            "rerata akurasi untuk k =  7  adalah=  0.7486842105263157\n",
            "akurasi kfold ke- 1  =  0.7631578947368421\n",
            "akurasi kfold ke- 2  =  0.7236842105263158\n",
            "akurasi kfold ke- 3  =  0.756578947368421\n",
            "akurasi kfold ke- 4  =  0.756578947368421\n",
            "akurasi kfold ke- 5  =  0.7697368421052632\n",
            "rerata akurasi untuk k =  9  adalah=  0.7539473684210527\n",
            "akurasi kfold ke- 1  =  0.7631578947368421\n",
            "akurasi kfold ke- 2  =  0.7236842105263158\n",
            "akurasi kfold ke- 3  =  0.7631578947368421\n",
            "akurasi kfold ke- 4  =  0.756578947368421\n",
            "akurasi kfold ke- 5  =  0.7697368421052632\n",
            "rerata akurasi untuk k =  11  adalah=  0.7552631578947369\n",
            "akurasi kfold ke- 1  =  0.75\n",
            "akurasi kfold ke- 2  =  0.743421052631579\n",
            "akurasi kfold ke- 3  =  0.7763157894736842\n",
            "akurasi kfold ke- 4  =  0.7763157894736842\n",
            "akurasi kfold ke- 5  =  0.7960526315789473\n",
            "rerata akurasi untuk k =  13  adalah=  0.7684210526315789\n",
            "akurasi kfold ke- 1  =  0.7697368421052632\n",
            "akurasi kfold ke- 2  =  0.7171052631578947\n",
            "akurasi kfold ke- 3  =  0.7631578947368421\n",
            "akurasi kfold ke- 4  =  0.7960526315789473\n",
            "akurasi kfold ke- 5  =  0.7697368421052632\n",
            "rerata akurasi untuk k =  15  adalah=  0.7631578947368421\n",
            "akurasi kfold ke- 1  =  0.7631578947368421\n",
            "akurasi kfold ke- 2  =  0.7236842105263158\n",
            "akurasi kfold ke- 3  =  0.7763157894736842\n",
            "akurasi kfold ke- 4  =  0.7763157894736842\n",
            "akurasi kfold ke- 5  =  0.7763157894736842\n",
            "rerata akurasi untuk k =  17  adalah=  0.763157894736842\n",
            "akurasi kfold ke- 1  =  0.75\n",
            "akurasi kfold ke- 2  =  0.7302631578947368\n",
            "akurasi kfold ke- 3  =  0.7697368421052632\n",
            "akurasi kfold ke- 4  =  0.743421052631579\n",
            "akurasi kfold ke- 5  =  0.7894736842105263\n",
            "rerata akurasi untuk k =  19  adalah=  0.756578947368421\n",
            "akurasi kfold ke- 1  =  0.7763157894736842\n",
            "akurasi kfold ke- 2  =  0.7171052631578947\n",
            "akurasi kfold ke- 3  =  0.7631578947368421\n",
            "akurasi kfold ke- 4  =  0.75\n",
            "akurasi kfold ke- 5  =  0.7960526315789473\n",
            "rerata akurasi untuk k =  21  adalah=  0.7605263157894736\n",
            "akurasi kfold ke- 1  =  0.7631578947368421\n",
            "akurasi kfold ke- 2  =  0.7302631578947368\n",
            "akurasi kfold ke- 3  =  0.7631578947368421\n",
            "akurasi kfold ke- 4  =  0.7631578947368421\n",
            "akurasi kfold ke- 5  =  0.7763157894736842\n",
            "rerata akurasi untuk k =  23  adalah=  0.7592105263157894\n",
            "akurasi kfold ke- 1  =  0.7697368421052632\n",
            "akurasi kfold ke- 2  =  0.7236842105263158\n",
            "akurasi kfold ke- 3  =  0.756578947368421\n",
            "akurasi kfold ke- 4  =  0.7697368421052632\n",
            "akurasi kfold ke- 5  =  0.7763157894736842\n",
            "rerata akurasi untuk k =  25  adalah=  0.7592105263157894\n",
            "akurasi kfold ke- 1  =  0.7631578947368421\n",
            "akurasi kfold ke- 2  =  0.7302631578947368\n",
            "akurasi kfold ke- 3  =  0.743421052631579\n",
            "akurasi kfold ke- 4  =  0.7763157894736842\n",
            "akurasi kfold ke- 5  =  0.7763157894736842\n",
            "rerata akurasi untuk k =  27  adalah=  0.7578947368421052\n",
            "akurasi kfold ke- 1  =  0.7697368421052632\n",
            "akurasi kfold ke- 2  =  0.7302631578947368\n",
            "akurasi kfold ke- 3  =  0.75\n",
            "akurasi kfold ke- 4  =  0.7763157894736842\n",
            "akurasi kfold ke- 5  =  0.7828947368421053\n",
            "rerata akurasi untuk k =  29  adalah=  0.7618421052631579\n",
            "akurasi kfold ke- 1  =  0.7697368421052632\n",
            "akurasi kfold ke- 2  =  0.7302631578947368\n",
            "akurasi kfold ke- 3  =  0.743421052631579\n",
            "akurasi kfold ke- 4  =  0.7894736842105263\n",
            "akurasi kfold ke- 5  =  0.7828947368421053\n",
            "rerata akurasi untuk k =  31  adalah=  0.7631578947368421\n",
            "akurasi kfold ke- 1  =  0.7631578947368421\n",
            "akurasi kfold ke- 2  =  0.7236842105263158\n",
            "akurasi kfold ke- 3  =  0.7368421052631579\n",
            "akurasi kfold ke- 4  =  0.7894736842105263\n",
            "akurasi kfold ke- 5  =  0.7894736842105263\n",
            "rerata akurasi untuk k =  33  adalah=  0.7605263157894738\n",
            "akurasi kfold ke- 1  =  0.756578947368421\n",
            "akurasi kfold ke- 2  =  0.743421052631579\n",
            "akurasi kfold ke- 3  =  0.7302631578947368\n",
            "akurasi kfold ke- 4  =  0.8026315789473685\n",
            "akurasi kfold ke- 5  =  0.7960526315789473\n",
            "rerata akurasi untuk k =  35  adalah=  0.7657894736842106\n",
            "akurasi kfold ke- 1  =  0.7631578947368421\n",
            "akurasi kfold ke- 2  =  0.7368421052631579\n",
            "akurasi kfold ke- 3  =  0.7302631578947368\n",
            "akurasi kfold ke- 4  =  0.7960526315789473\n",
            "akurasi kfold ke- 5  =  0.7894736842105263\n",
            "rerata akurasi untuk k =  37  adalah=  0.7631578947368421\n",
            "akurasi kfold ke- 1  =  0.7631578947368421\n",
            "akurasi kfold ke- 2  =  0.7171052631578947\n",
            "akurasi kfold ke- 3  =  0.7368421052631579\n",
            "akurasi kfold ke- 4  =  0.7894736842105263\n",
            "akurasi kfold ke- 5  =  0.7894736842105263\n",
            "rerata akurasi untuk k =  39  adalah=  0.7592105263157896\n",
            "akurasi kfold ke- 1  =  0.7631578947368421\n",
            "akurasi kfold ke- 2  =  0.7236842105263158\n",
            "akurasi kfold ke- 3  =  0.75\n",
            "akurasi kfold ke- 4  =  0.7763157894736842\n",
            "akurasi kfold ke- 5  =  0.7828947368421053\n",
            "rerata akurasi untuk k =  41  adalah=  0.7592105263157894\n",
            "akurasi kfold ke- 1  =  0.7631578947368421\n",
            "akurasi kfold ke- 2  =  0.7302631578947368\n",
            "akurasi kfold ke- 3  =  0.75\n",
            "akurasi kfold ke- 4  =  0.7763157894736842\n",
            "akurasi kfold ke- 5  =  0.7894736842105263\n",
            "rerata akurasi untuk k =  43  adalah=  0.7618421052631579\n",
            "akurasi kfold ke- 1  =  0.7763157894736842\n",
            "akurasi kfold ke- 2  =  0.7368421052631579\n",
            "akurasi kfold ke- 3  =  0.75\n",
            "akurasi kfold ke- 4  =  0.7763157894736842\n",
            "akurasi kfold ke- 5  =  0.7894736842105263\n",
            "rerata akurasi untuk k =  45  adalah=  0.7657894736842105\n",
            "akurasi kfold ke- 1  =  0.7763157894736842\n",
            "akurasi kfold ke- 2  =  0.7236842105263158\n",
            "akurasi kfold ke- 3  =  0.7631578947368421\n",
            "akurasi kfold ke- 4  =  0.7697368421052632\n",
            "akurasi kfold ke- 5  =  0.7960526315789473\n",
            "rerata akurasi untuk k =  47  adalah=  0.7657894736842106\n",
            "akurasi kfold ke- 1  =  0.7697368421052632\n",
            "akurasi kfold ke- 2  =  0.7236842105263158\n",
            "akurasi kfold ke- 3  =  0.756578947368421\n",
            "akurasi kfold ke- 4  =  0.7697368421052632\n",
            "akurasi kfold ke- 5  =  0.7828947368421053\n",
            "rerata akurasi untuk k =  49  adalah=  0.7605263157894737\n"
          ],
          "name": "stdout"
        },
        {
          "output_type": "display_data",
          "data": {
            "image/png": "[encoded data removed]",
            "text/plain": [
              "<Figure size 432x288 with 1 Axes>"
            ]
          },
          "metadata": {
            "tags": [],
            "needs_background": "light"
          }
        }
      ]
    },
    {
      "cell_type": "code",
      "metadata": {
        "colab": {
          "base_uri": "https://localhost:8080/",
          "height": 1000
        },
        "id": "vGQUCMJrjrcJ",
        "outputId": "d18fac2b-6073-4c23-e073-7ce04c03ace5"
      },
      "source": [
        "#test split 2, manhattan\r\n",
        "\r\n",
        "kfold = 5\r\n",
        "dfff = traintestsplit2(df2,kfold)\r\n",
        "dataknya =[]\r\n",
        "xaxis = np.arange(1,51,2)\r\n",
        "for i in range(1,51,2):\r\n",
        "  avgacc = 0\r\n",
        "  for j in range(kfold):\r\n",
        "    trainyok = dfff[j][0]\r\n",
        "    testnyok = dfff[j][1]\r\n",
        "    acc, trufals = neighbor(trainyok,testnyok,i)\r\n",
        "    print(\"akurasi kfold ke-\",j+1,\" = \",acc)\r\n",
        "    avgacc = avgacc+acc\r\n",
        "  print(\"rerata akurasi untuk k = \",i,\" adalah= \",avgacc/kfold)\r\n",
        "  dataknya.append(avgacc/kfold)\r\n",
        "plt.plot(xaxis,dataknya, color = 'red')\r\n",
        "plt.show()"
      ],
      "execution_count": 44,
      "outputs": [
        {
          "output_type": "stream",
          "text": [
            "akurasi kfold ke- 1  =  0.6973684210526315\n",
            "akurasi kfold ke- 2  =  0.7171052631578947\n",
            "akurasi kfold ke- 3  =  0.6973684210526315\n",
            "akurasi kfold ke- 4  =  0.7105263157894737\n",
            "akurasi kfold ke- 5  =  0.6644736842105263\n",
            "rerata akurasi untuk k =  1  adalah=  0.6973684210526315\n",
            "akurasi kfold ke- 1  =  0.7171052631578947\n",
            "akurasi kfold ke- 2  =  0.743421052631579\n",
            "akurasi kfold ke- 3  =  0.6447368421052632\n",
            "akurasi kfold ke- 4  =  0.7631578947368421\n",
            "akurasi kfold ke- 5  =  0.756578947368421\n",
            "rerata akurasi untuk k =  3  adalah=  0.725\n",
            "akurasi kfold ke- 1  =  0.7039473684210527\n",
            "akurasi kfold ke- 2  =  0.756578947368421\n",
            "akurasi kfold ke- 3  =  0.7105263157894737\n",
            "akurasi kfold ke- 4  =  0.7368421052631579\n",
            "akurasi kfold ke- 5  =  0.7631578947368421\n",
            "rerata akurasi untuk k =  5  adalah=  0.7342105263157894\n",
            "akurasi kfold ke- 1  =  0.7171052631578947\n",
            "akurasi kfold ke- 2  =  0.7960526315789473\n",
            "akurasi kfold ke- 3  =  0.7368421052631579\n",
            "akurasi kfold ke- 4  =  0.756578947368421\n",
            "akurasi kfold ke- 5  =  0.7631578947368421\n",
            "rerata akurasi untuk k =  7  adalah=  0.7539473684210527\n",
            "akurasi kfold ke- 1  =  0.7302631578947368\n",
            "akurasi kfold ke- 2  =  0.7697368421052632\n",
            "akurasi kfold ke- 3  =  0.756578947368421\n",
            "akurasi kfold ke- 4  =  0.743421052631579\n",
            "akurasi kfold ke- 5  =  0.756578947368421\n",
            "rerata akurasi untuk k =  9  adalah=  0.7513157894736843\n",
            "akurasi kfold ke- 1  =  0.7302631578947368\n",
            "akurasi kfold ke- 2  =  0.75\n",
            "akurasi kfold ke- 3  =  0.7697368421052632\n",
            "akurasi kfold ke- 4  =  0.7697368421052632\n",
            "akurasi kfold ke- 5  =  0.756578947368421\n",
            "rerata akurasi untuk k =  11  adalah=  0.7552631578947369\n",
            "akurasi kfold ke- 1  =  0.743421052631579\n",
            "akurasi kfold ke- 2  =  0.7631578947368421\n",
            "akurasi kfold ke- 3  =  0.7763157894736842\n",
            "akurasi kfold ke- 4  =  0.756578947368421\n",
            "akurasi kfold ke- 5  =  0.756578947368421\n",
            "rerata akurasi untuk k =  13  adalah=  0.7592105263157896\n",
            "akurasi kfold ke- 1  =  0.7236842105263158\n",
            "akurasi kfold ke- 2  =  0.743421052631579\n",
            "akurasi kfold ke- 3  =  0.7697368421052632\n",
            "akurasi kfold ke- 4  =  0.743421052631579\n",
            "akurasi kfold ke- 5  =  0.7697368421052632\n",
            "rerata akurasi untuk k =  15  adalah=  0.7500000000000001\n",
            "akurasi kfold ke- 1  =  0.7368421052631579\n",
            "akurasi kfold ke- 2  =  0.7368421052631579\n",
            "akurasi kfold ke- 3  =  0.7763157894736842\n",
            "akurasi kfold ke- 4  =  0.7368421052631579\n",
            "akurasi kfold ke- 5  =  0.7763157894736842\n",
            "rerata akurasi untuk k =  17  adalah=  0.7526315789473684\n",
            "akurasi kfold ke- 1  =  0.743421052631579\n",
            "akurasi kfold ke- 2  =  0.7302631578947368\n",
            "akurasi kfold ke- 3  =  0.7828947368421053\n",
            "akurasi kfold ke- 4  =  0.743421052631579\n",
            "akurasi kfold ke- 5  =  0.7697368421052632\n",
            "rerata akurasi untuk k =  19  adalah=  0.7539473684210527\n",
            "akurasi kfold ke- 1  =  0.756578947368421\n",
            "akurasi kfold ke- 2  =  0.7039473684210527\n",
            "akurasi kfold ke- 3  =  0.7763157894736842\n",
            "akurasi kfold ke- 4  =  0.756578947368421\n",
            "akurasi kfold ke- 5  =  0.7631578947368421\n",
            "rerata akurasi untuk k =  21  adalah=  0.7513157894736842\n",
            "akurasi kfold ke- 1  =  0.7631578947368421\n",
            "akurasi kfold ke- 2  =  0.7105263157894737\n",
            "akurasi kfold ke- 3  =  0.7697368421052632\n",
            "akurasi kfold ke- 4  =  0.756578947368421\n",
            "akurasi kfold ke- 5  =  0.7763157894736842\n",
            "rerata akurasi untuk k =  23  adalah=  0.7552631578947369\n",
            "akurasi kfold ke- 1  =  0.7631578947368421\n",
            "akurasi kfold ke- 2  =  0.7302631578947368\n",
            "akurasi kfold ke- 3  =  0.756578947368421\n",
            "akurasi kfold ke- 4  =  0.756578947368421\n",
            "akurasi kfold ke- 5  =  0.7697368421052632\n",
            "rerata akurasi untuk k =  25  adalah=  0.7552631578947369\n",
            "akurasi kfold ke- 1  =  0.756578947368421\n",
            "akurasi kfold ke- 2  =  0.75\n",
            "akurasi kfold ke- 3  =  0.75\n",
            "akurasi kfold ke- 4  =  0.7697368421052632\n",
            "akurasi kfold ke- 5  =  0.7763157894736842\n",
            "rerata akurasi untuk k =  27  adalah=  0.7605263157894737\n",
            "akurasi kfold ke- 1  =  0.7697368421052632\n",
            "akurasi kfold ke- 2  =  0.743421052631579\n",
            "akurasi kfold ke- 3  =  0.743421052631579\n",
            "akurasi kfold ke- 4  =  0.7697368421052632\n",
            "akurasi kfold ke- 5  =  0.7631578947368421\n",
            "rerata akurasi untuk k =  29  adalah=  0.7578947368421053\n",
            "akurasi kfold ke- 1  =  0.7697368421052632\n",
            "akurasi kfold ke- 2  =  0.743421052631579\n",
            "akurasi kfold ke- 3  =  0.75\n",
            "akurasi kfold ke- 4  =  0.7763157894736842\n",
            "akurasi kfold ke- 5  =  0.7763157894736842\n",
            "rerata akurasi untuk k =  31  adalah=  0.763157894736842\n",
            "akurasi kfold ke- 1  =  0.7631578947368421\n",
            "akurasi kfold ke- 2  =  0.7368421052631579\n",
            "akurasi kfold ke- 3  =  0.75\n",
            "akurasi kfold ke- 4  =  0.7894736842105263\n",
            "akurasi kfold ke- 5  =  0.7763157894736842\n",
            "rerata akurasi untuk k =  33  adalah=  0.7631578947368421\n",
            "akurasi kfold ke- 1  =  0.7697368421052632\n",
            "akurasi kfold ke- 2  =  0.75\n",
            "akurasi kfold ke- 3  =  0.7368421052631579\n",
            "akurasi kfold ke- 4  =  0.7763157894736842\n",
            "akurasi kfold ke- 5  =  0.7697368421052632\n",
            "rerata akurasi untuk k =  35  adalah=  0.7605263157894737\n",
            "akurasi kfold ke- 1  =  0.7697368421052632\n",
            "akurasi kfold ke- 2  =  0.7368421052631579\n",
            "akurasi kfold ke- 3  =  0.7368421052631579\n",
            "akurasi kfold ke- 4  =  0.7828947368421053\n",
            "akurasi kfold ke- 5  =  0.7894736842105263\n",
            "rerata akurasi untuk k =  37  adalah=  0.7631578947368421\n",
            "akurasi kfold ke- 1  =  0.7828947368421053\n",
            "akurasi kfold ke- 2  =  0.743421052631579\n",
            "akurasi kfold ke- 3  =  0.7368421052631579\n",
            "akurasi kfold ke- 4  =  0.7828947368421053\n",
            "akurasi kfold ke- 5  =  0.7763157894736842\n",
            "rerata akurasi untuk k =  39  adalah=  0.7644736842105263\n",
            "akurasi kfold ke- 1  =  0.7763157894736842\n",
            "akurasi kfold ke- 2  =  0.743421052631579\n",
            "akurasi kfold ke- 3  =  0.756578947368421\n",
            "akurasi kfold ke- 4  =  0.7763157894736842\n",
            "akurasi kfold ke- 5  =  0.7763157894736842\n",
            "rerata akurasi untuk k =  41  adalah=  0.7657894736842105\n",
            "akurasi kfold ke- 1  =  0.7828947368421053\n",
            "akurasi kfold ke- 2  =  0.75\n",
            "akurasi kfold ke- 3  =  0.756578947368421\n",
            "akurasi kfold ke- 4  =  0.7763157894736842\n",
            "akurasi kfold ke- 5  =  0.7697368421052632\n",
            "rerata akurasi untuk k =  43  adalah=  0.7671052631578947\n",
            "akurasi kfold ke- 1  =  0.7828947368421053\n",
            "akurasi kfold ke- 2  =  0.743421052631579\n",
            "akurasi kfold ke- 3  =  0.756578947368421\n",
            "akurasi kfold ke- 4  =  0.7697368421052632\n",
            "akurasi kfold ke- 5  =  0.7697368421052632\n",
            "rerata akurasi untuk k =  45  adalah=  0.7644736842105264\n",
            "akurasi kfold ke- 1  =  0.7763157894736842\n",
            "akurasi kfold ke- 2  =  0.743421052631579\n",
            "akurasi kfold ke- 3  =  0.7631578947368421\n",
            "akurasi kfold ke- 4  =  0.7697368421052632\n",
            "akurasi kfold ke- 5  =  0.7697368421052632\n",
            "rerata akurasi untuk k =  47  adalah=  0.7644736842105264\n",
            "akurasi kfold ke- 1  =  0.7697368421052632\n",
            "akurasi kfold ke- 2  =  0.7368421052631579\n",
            "akurasi kfold ke- 3  =  0.7697368421052632\n",
            "akurasi kfold ke- 4  =  0.7697368421052632\n",
            "akurasi kfold ke- 5  =  0.75\n",
            "rerata akurasi untuk k =  49  adalah=  0.7592105263157894\n"
          ],
          "name": "stdout"
        },
        {
          "output_type": "display_data",
          "data": {
            "image/png": "[encoded data removed]",
            "text/plain": [
              "<Figure size 432x288 with 1 Axes>"
            ]
          },
          "metadata": {
            "tags": [],
            "needs_background": "light"
          }
        }
      ]
    }
  ]
}